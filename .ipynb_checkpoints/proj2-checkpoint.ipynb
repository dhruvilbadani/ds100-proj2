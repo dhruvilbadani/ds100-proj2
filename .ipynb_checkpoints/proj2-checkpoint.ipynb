{
 "cells": [
  {
   "cell_type": "markdown",
   "metadata": {},
   "source": [
    "# Project 2: Spam/Ham Prediction\n",
    "\n",
    "In this project, you will use what you've learned in class to create a classifier that can distinguish spam emails from ham (non-spam) emails.\n",
    "\n",
    "We'll walk you through a couple steps to get you started, but this project is almost entirely open-ended. Instead of providing you with a skeleton to fill in, we will evaluate your work based on your model's accuracy and your written responses in this notebook."
   ]
  },
  {
   "cell_type": "markdown",
   "metadata": {},
   "source": [
    "## Kaggle\n",
    "\n",
    "This project is a bit different from the other assignments in this class because we are using Kaggle to evaluate your model's accuracy. Kaggle is a website that hosts machine learning competitions.\n",
    "\n",
    "We've created a competition just for this project: https://www.kaggle.com/t/433a6bca95f94a78a0d2a6e7e8b311c3\n",
    "\n",
    "Here's how submitting to Kaggle works:\n",
    "\n",
    "1. You will create a classifier using the training dataset.\n",
    "2. You will use your classifier to make predictions on the test dataset.\n",
    "3. You will upload your predictions as a CSV to https://www.kaggle.com/t/433a6bca95f94a78a0d2a6e7e8b311c3\n",
    "4. The website will tell you your accuracy on the test set. You may only do this twice a day. You must reach a test set accuracy of **88%** in order to get full credit for the Kaggle portion of the assignment.\n",
    "\n",
    "(After the assignment ends, we will evaluate your accuracy on a private test set to ensure that you aren't overfitting to the test set.)"
   ]
  },
  {
   "cell_type": "markdown",
   "metadata": {},
   "source": [
    "## Submission\n",
    "\n",
    "This project has no ok tests (and no autograder). Instead, you will submit the following:\n",
    "\n",
    "0. **Your notebook to OkPy**. You can do this by running the `ok.submit()` cell at the bottom of this notebook. Note that there is no autograder for this assignment so you will not receive autograder emails.\n",
    "0. **Your notebook's written answers to GradeScope.** The cell to export the notebook is located at the bottom of this notebook. If you have trouble converting your notebook to PDF, you may upload your notebook to http://datahub.berkeley.edu/ and run the cell there.\n",
    "0. **Your model's predictions on the test set to Kaggle**, a website that hosts machine learning competitions. Kaggle will output your your accuracy on the test set so that you will know whether you've met the accuracy threshold or not.\n",
    "\n",
    "**To prevent you from fitting to the test set, you may only upload predictions to Kaggle twice per day.** This means you should start early. In addition, if you decide to pair with someone else, your group only gets two submissions per day (not four).\n",
    "\n",
    "This project (notebook + Gradescope submissions) is officially due Friday, Dec 1 at 11:59:59pm since we can't make assignments due after classes end. However, we will accept submissions until **Monday, Dec 4 at 11:59:59pm** without using slip days. Submissions after Dec 4 will use 1 slip day each day after Dec 4. The Kaggle competition will remain open until **Saturday Dec 9 at 11:59:59pm**.\n",
    "\n",
    "**No late Kaggle submissions will be accepted** since we've taken slip days into account when setting the Kaggle deadline. You will not use slip days for Kaggle submissions."
   ]
  },
  {
   "cell_type": "markdown",
   "metadata": {},
   "source": [
    "## Grading\n",
    "Grading will be based on a number of set criteria, enumerated below:\n",
    "\n",
    "Task | Description\n",
    "--- | ---\n",
    "Basic Classifier | You succesfully implement our guided basic logistic regression classifier.\n",
    "EDA | You create four exploratory plots that help explain your feature choices.\n",
    "Feature Selection | You explain and justify your feature selection process\n",
    "Written Questions | You answer the written questions that we place throughout this notebook.\n",
    "Kaggle Accuracy | Your model beats the prediction accuracy threshold of **88%**. This is attainable with a well-thought-out model.\n",
    "\n",
    "**You are allowed to work in groups of 2 for this assignment!** If you decide to partner with someone else, make sure you do the following:\n",
    "\n",
    "1. Have one person in the group invite the other on OkPy: https://okpy.org/cal/ds100/fa17/proj2/\n",
    "1. Have one person in the group invite the other person on Gradescope.\n",
    "1. Have one person in the group invite the other person on Kaggle: https://www.kaggle.com/t/433a6bca95f94a78a0d2a6e7e8b311c3"
   ]
  },
  {
   "cell_type": "markdown",
   "metadata": {},
   "source": [
    "## Prizes\n",
    "\n",
    "Although you need to reach 88% accuracy in order to get full credit, we will reward those that create great classifiers.\n",
    "\n",
    "The top 10 students on the Kaggle leaderboard, evaluated by their score in the private test set will: \n",
    "\n",
    "1. Have bragging rights \n",
    "2. Be invited to attend a lunch at the Faculty Club, hosted by Professors Gonzalez and Nolan.\n",
    "\n",
    "## Restrictions\n",
    "\n",
    "While we want you to be creative with your models, we want to make it fair to students who are seeing these techniques for the first time.  As such, **you are only allowed to train logistic regression models and their regularized forms**.  This means no random forest, CART, neural nets, etc.  However, you are free to feature engineer to your heart's content.  Remember that domain knowledge is the third component of data science."
   ]
  },
  {
   "cell_type": "markdown",
   "metadata": {},
   "source": [
    "## Getting Started"
   ]
  },
  {
   "cell_type": "code",
   "execution_count": 1,
   "metadata": {},
   "outputs": [
    {
     "name": "stdout",
     "output_type": "stream",
     "text": [
      "=====================================================================\n",
      "Assignment: Project 2\n",
      "OK, version v1.13.9\n",
      "=====================================================================\n",
      "\n"
     ]
    }
   ],
   "source": [
    "# Run this cell to set up your notebook\n",
    "import seaborn as sns\n",
    "import csv\n",
    "import numpy as np\n",
    "import pandas as pd\n",
    "import matplotlib.pyplot as plt\n",
    "%matplotlib inline\n",
    "sns.set()\n",
    "sns.set_context(\"talk\")\n",
    "\n",
    "from IPython.display import display, Latex, Markdown, HTML, Javascript\n",
    "from client.api.notebook import Notebook\n",
    "ok = Notebook('proj2.ok')"
   ]
  },
  {
   "cell_type": "code",
   "execution_count": 2,
   "metadata": {
    "scrolled": true
   },
   "outputs": [
    {
     "name": "stdout",
     "output_type": "stream",
     "text": [
      "\n",
      "Open the following URL:\n",
      "\n",
      "https://okpy.org/client/login/\n",
      "\n",
      "After logging in, copy the code from the web page and paste it into the box.\n",
      "Then press the \"Enter\" key on your keyboard.\n",
      "\n",
      "Paste your code here: VUeAbDJ4UmMpBt2cnW8PLHrkopRTvd\n",
      "Successfully logged in as meghna.dasgupta@berkeley.edu\n"
     ]
    }
   ],
   "source": [
    "# Log into OkPy.\n",
    "# You might need to change this to ok.auth(force=True) if you get an error\n",
    "ok.auth(force=True)"
   ]
  },
  {
   "cell_type": "markdown",
   "metadata": {},
   "source": [
    "For your convenience, run this cell to highlight the written response cells in light blue. Only the highlighted cells will be converted to the GradeScope PDF, so put your written answers there.\n",
    "\n",
    "Unfortunately, you'll have to run this each time you open your notebook to highlight cells."
   ]
  },
  {
   "cell_type": "code",
   "execution_count": 3,
   "metadata": {},
   "outputs": [
    {
     "data": {
      "application/javascript": [
       "\n",
       "Jupyter.notebook.get_cells().map(function(cell) {\n",
       "  var tags = cell.metadata.tags\n",
       "  if (tags && tags.indexOf('written') >= 0)\n",
       "    cell.element.css('background-color', '#efefff')\n",
       "})\n"
      ],
      "text/plain": [
       "<IPython.core.display.Javascript object>"
      ]
     },
     "metadata": {},
     "output_type": "display_data"
    }
   ],
   "source": [
    "highlight_cells = '''\n",
    "Jupyter.notebook.get_cells().map(function(cell) {\n",
    "  var tags = cell.metadata.tags\n",
    "  if (tags && tags.indexOf('written') >= 0)\n",
    "    cell.element.css('background-color', '#efefff')\n",
    "})\n",
    "'''\n",
    "display(Javascript(highlight_cells))"
   ]
  },
  {
   "cell_type": "markdown",
   "metadata": {},
   "source": [
    "\n",
    "## Loading in the Data\n",
    "\n",
    "The dataset consists of email messages and their labels (0 for ham, 1 for spam). The training set contains 8348 labeled examples, and the test set contains 1000 unlabeled examples.\n",
    "\n",
    "Run the following cells to load in the data into DataFrames.\n",
    "\n",
    "The `train` DataFrame contains labeled data that you will use to train your model. It contains three columns:\n",
    "\n",
    "1. `id`: An identifier for the training example.\n",
    "1. `subject`: The subject of the email\n",
    "1. `email`: The text of the email.\n",
    "1. `spam`: 1 if the email was spam, 0 if the email was ham (not spam).\n",
    "\n",
    "The `test` DataFrame contains another set of 1000 unlabeled examples. You will predict labels for these examples and submit your predictions to Kaggle for evaluation."
   ]
  },
  {
   "cell_type": "code",
   "execution_count": 4,
   "metadata": {},
   "outputs": [
    {
     "data": {
      "text/html": [
       "<div>\n",
       "<style>\n",
       "    .dataframe thead tr:only-child th {\n",
       "        text-align: right;\n",
       "    }\n",
       "\n",
       "    .dataframe thead th {\n",
       "        text-align: left;\n",
       "    }\n",
       "\n",
       "    .dataframe tbody tr th {\n",
       "        vertical-align: top;\n",
       "    }\n",
       "</style>\n",
       "<table border=\"1\" class=\"dataframe\">\n",
       "  <thead>\n",
       "    <tr style=\"text-align: right;\">\n",
       "      <th></th>\n",
       "      <th>id</th>\n",
       "      <th>subject</th>\n",
       "      <th>email</th>\n",
       "      <th>spam</th>\n",
       "    </tr>\n",
       "  </thead>\n",
       "  <tbody>\n",
       "    <tr>\n",
       "      <th>0</th>\n",
       "      <td>0</td>\n",
       "      <td>Subject: A&amp;L Daily to be auctioned in bankrupt...</td>\n",
       "      <td>url: http://boingboing.net/#85534171\\n date: n...</td>\n",
       "      <td>0</td>\n",
       "    </tr>\n",
       "    <tr>\n",
       "      <th>1</th>\n",
       "      <td>1</td>\n",
       "      <td>Subject: Wired: \"Stronger ties between ISPs an...</td>\n",
       "      <td>url: http://scriptingnews.userland.com/backiss...</td>\n",
       "      <td>0</td>\n",
       "    </tr>\n",
       "    <tr>\n",
       "      <th>2</th>\n",
       "      <td>2</td>\n",
       "      <td>Subject: It's just too small                  ...</td>\n",
       "      <td>&lt;html&gt;\\n &lt;head&gt;\\n &lt;/head&gt;\\n &lt;body&gt;\\n &lt;font siz...</td>\n",
       "      <td>1</td>\n",
       "    </tr>\n",
       "    <tr>\n",
       "      <th>3</th>\n",
       "      <td>3</td>\n",
       "      <td>Subject: liberal defnitions\\n</td>\n",
       "      <td>depends on how much over spending vs. how much...</td>\n",
       "      <td>0</td>\n",
       "    </tr>\n",
       "    <tr>\n",
       "      <th>4</th>\n",
       "      <td>4</td>\n",
       "      <td>Subject: RE: [ILUG] Newbie seeks advice - Suse...</td>\n",
       "      <td>hehe sorry but if you hit caps lock twice the ...</td>\n",
       "      <td>0</td>\n",
       "    </tr>\n",
       "  </tbody>\n",
       "</table>\n",
       "</div>"
      ],
      "text/plain": [
       "   id                                            subject  \\\n",
       "0   0  Subject: A&L Daily to be auctioned in bankrupt...   \n",
       "1   1  Subject: Wired: \"Stronger ties between ISPs an...   \n",
       "2   2  Subject: It's just too small                  ...   \n",
       "3   3                      Subject: liberal defnitions\\n   \n",
       "4   4  Subject: RE: [ILUG] Newbie seeks advice - Suse...   \n",
       "\n",
       "                                               email  spam  \n",
       "0  url: http://boingboing.net/#85534171\\n date: n...     0  \n",
       "1  url: http://scriptingnews.userland.com/backiss...     0  \n",
       "2  <html>\\n <head>\\n </head>\\n <body>\\n <font siz...     1  \n",
       "3  depends on how much over spending vs. how much...     0  \n",
       "4  hehe sorry but if you hit caps lock twice the ...     0  "
      ]
     },
     "execution_count": 4,
     "metadata": {},
     "output_type": "execute_result"
    }
   ],
   "source": [
    "train = pd.read_csv('train.csv')\n",
    "# We lower case the emails to make them easier to work with\n",
    "train['email'] = train['email'].str.lower()\n",
    "train.head()"
   ]
  },
  {
   "cell_type": "code",
   "execution_count": 5,
   "metadata": {},
   "outputs": [
    {
     "data": {
      "text/html": [
       "<div>\n",
       "<style>\n",
       "    .dataframe thead tr:only-child th {\n",
       "        text-align: right;\n",
       "    }\n",
       "\n",
       "    .dataframe thead th {\n",
       "        text-align: left;\n",
       "    }\n",
       "\n",
       "    .dataframe tbody tr th {\n",
       "        vertical-align: top;\n",
       "    }\n",
       "</style>\n",
       "<table border=\"1\" class=\"dataframe\">\n",
       "  <thead>\n",
       "    <tr style=\"text-align: right;\">\n",
       "      <th></th>\n",
       "      <th>id</th>\n",
       "      <th>subject</th>\n",
       "      <th>email</th>\n",
       "    </tr>\n",
       "  </thead>\n",
       "  <tbody>\n",
       "    <tr>\n",
       "      <th>0</th>\n",
       "      <td>0</td>\n",
       "      <td>Subject: CERT Advisory CA-2002-21 Vulnerabilit...</td>\n",
       "      <td>\\n \\n -----begin pgp signed message-----\\n \\n ...</td>\n",
       "    </tr>\n",
       "    <tr>\n",
       "      <th>1</th>\n",
       "      <td>1</td>\n",
       "      <td>Subject: ADV: Affordable Life Insurance ddbfk\\n</td>\n",
       "      <td>low-cost term-life insurance!\\n save up to 70%...</td>\n",
       "    </tr>\n",
       "    <tr>\n",
       "      <th>2</th>\n",
       "      <td>2</td>\n",
       "      <td>Subject: CAREER OPPORTUNITY.  WORK FROM HOME\\n</td>\n",
       "      <td>------=_nextpart_000_00a0_03e30a1a.b1804b54\\n ...</td>\n",
       "    </tr>\n",
       "    <tr>\n",
       "      <th>3</th>\n",
       "      <td>3</td>\n",
       "      <td>Subject: Marriage makes both sexes happy\\n</td>\n",
       "      <td>url: http://www.newsisfree.com/click/-3,848315...</td>\n",
       "    </tr>\n",
       "    <tr>\n",
       "      <th>4</th>\n",
       "      <td>4</td>\n",
       "      <td>Subject: Re: [SAtalk] SA very slow (hangs?) on...</td>\n",
       "      <td>on thursday 29 august 2002 16:39 cet mike burg...</td>\n",
       "    </tr>\n",
       "  </tbody>\n",
       "</table>\n",
       "</div>"
      ],
      "text/plain": [
       "   id                                            subject  \\\n",
       "0   0  Subject: CERT Advisory CA-2002-21 Vulnerabilit...   \n",
       "1   1    Subject: ADV: Affordable Life Insurance ddbfk\\n   \n",
       "2   2     Subject: CAREER OPPORTUNITY.  WORK FROM HOME\\n   \n",
       "3   3         Subject: Marriage makes both sexes happy\\n   \n",
       "4   4  Subject: Re: [SAtalk] SA very slow (hangs?) on...   \n",
       "\n",
       "                                               email  \n",
       "0  \\n \\n -----begin pgp signed message-----\\n \\n ...  \n",
       "1  low-cost term-life insurance!\\n save up to 70%...  \n",
       "2  ------=_nextpart_000_00a0_03e30a1a.b1804b54\\n ...  \n",
       "3  url: http://www.newsisfree.com/click/-3,848315...  \n",
       "4  on thursday 29 august 2002 16:39 cet mike burg...  "
      ]
     },
     "execution_count": 5,
     "metadata": {},
     "output_type": "execute_result"
    }
   ],
   "source": [
    "test = pd.read_csv('test.csv')\n",
    "test['email'] = test['email'].str.lower()\n",
    "test.head()"
   ]
  },
  {
   "cell_type": "markdown",
   "metadata": {},
   "source": [
    "### Question 1\n",
    "\n",
    "In the cell below, print the text of the first ham and the first spam email in the training set. Then, discuss one thing you notice that is different between the two."
   ]
  },
  {
   "cell_type": "code",
   "execution_count": 6,
   "metadata": {
    "tags": [
     "written",
     "q01",
     "student"
    ]
   },
   "outputs": [
    {
     "name": "stdout",
     "output_type": "stream",
     "text": [
      "url: http://boingboing.net/#85534171\n",
      " date: not supplied\n",
      " \n",
      " arts and letters daily, a wonderful and dense blog, has folded up its tent due \n",
      " to the bankruptcy of its parent company. a&l daily will be auctioned off by the \n",
      " receivers. link[1] discuss[2] (_thanks, misha!_)\n",
      " \n",
      " [1] http://www.aldaily.com/\n",
      " [2] http://www.quicktopic.com/boing/h/zlfterjnd6jf\n",
      " \n",
      " \n",
      "\n",
      "<html>\n",
      " <head>\n",
      " </head>\n",
      " <body>\n",
      " <font size=3d\"4\"><b> a man endowed with a 7-8\" hammer is simply<br>\n",
      "  better equipped than a man with a 5-6\"hammer. <br>\n",
      " <br>would you rather have<br>more than enough to get the job done or fall =\n",
      " short. it's totally up<br>to you. our methods are guaranteed to increase y=\n",
      " our size by 1-3\"<br> <a href=3d\"http://209.163.187.47/cgi-bin/index.php?10=\n",
      " 004\">come in here and see how</a>\n",
      " </body>\n",
      " </html>\n",
      " \n",
      " \n",
      " \n",
      "\n"
     ]
    },
    {
     "data": {
      "text/markdown": [
       "\n",
       "1. The ham email is not in HTML while the spam email is. \n",
       "2. The ham email has sources listed at the bottom unlike the spam email. \n",
       "3. Additionally, the spam email sounds like it is trying to advertise a product (\"come in here and see how\") \n",
       "and has words like guaranteed, which sound like distinguishers. \n"
      ],
      "text/plain": [
       "<IPython.core.display.Markdown object>"
      ]
     },
     "metadata": {},
     "output_type": "display_data"
    }
   ],
   "source": [
    "# Print the text of the first ham and the first spam emails. Then, fill in your response in the q01 variable:\n",
    "\n",
    "print(train['email'][0])\n",
    "print(train['email'][2])\n",
    "\n",
    "q01 = '''\n",
    "1. The ham email is not in HTML while the spam email is. \n",
    "2. The ham email has sources listed at the bottom unlike the spam email. \n",
    "3. Additionally, the spam email sounds like it is trying to advertise a product (\"come in here and see how\") \n",
    "and has words like guaranteed, which sound like distinguishers. \n",
    "'''\n",
    "display(Markdown(q01))"
   ]
  },
  {
   "cell_type": "markdown",
   "metadata": {},
   "source": [
    "## Our First Features\n",
    "\n",
    "We would like to take the text of an email and predict whether the text is ham or spam. This is a *classification* problem, so we will use logistic regression to make a classifier.\n",
    "\n",
    "Recall that the input to logistic regression is a matrix $X$ that contains numeric values only. Unfortunately, our data are text, not numbers. To address this, we can create numeric features derived from the email text and use those features for logistic regression.\n",
    "\n",
    "Each row of $X$ is derived from one email example. Each column of $X$ is one feature. We'll guide you through creating a simple feature, and you'll create more interesting ones when you are trying to increase your accuracy.\n",
    "\n",
    "### Question 2\n",
    "\n",
    "Create a function called `words_in_text` that takes in a list of words and the text of an email. It outputs a pandas Series containing either a 0 or a 1 for each word in the list. The value of the Series should be 0 if the word doesn't appear in the text and 1 if the word does."
   ]
  },
  {
   "cell_type": "code",
   "execution_count": 7,
   "metadata": {
    "collapsed": true,
    "tags": [
     "student"
    ]
   },
   "outputs": [],
   "source": [
    "def words_in_text(words, text):\n",
    "    '''\n",
    "    Args:\n",
    "        `words` (list of str): words to find\n",
    "        `text` (str): string to search in\n",
    "    \n",
    "    Returns:\n",
    "        Series containing either 0 or 1 for each word in words\n",
    "        (0 if the word is not in text, 1 if the word is).\n",
    "    '''\n",
    "    def f(word):\n",
    "        if word in text:\n",
    "            return 1\n",
    "        return 0\n",
    "    return pd.Series([f(word) for word in words])\n",
    "\n",
    "# If these don't error, your function outputs the correct output for these examples\n",
    "assert np.allclose(words_in_text(['hello'], 'hello world'),\n",
    "                   [1])\n",
    "assert np.allclose(words_in_text(['hello', 'bye', 'world'], 'hello world hello'),\n",
    "                   [1, 0, 1])"
   ]
  },
  {
   "cell_type": "markdown",
   "metadata": {},
   "source": [
    "### Question 3\n",
    "\n",
    "Now, create a function called `words_in_texts` that takes in a list of words and a pandas Series of email texts. It should output a 2-dimensional NumPy matrix containing one row for each email text. The row should contain the output of `words_in_text` for each example. For example:\n",
    "\n",
    "```python\n",
    ">>> words_in_texts(['hello', 'bye', 'world'], pd.Series(['hello', 'hello world hello']))\n",
    "array([[1, 0, 0],\n",
    "       [1, 0, 1]])\n",
    "```\n",
    "\n",
    "You should be able to use the `.apply` and `.as_matrix` functions to implement this."
   ]
  },
  {
   "cell_type": "code",
   "execution_count": 8,
   "metadata": {
    "collapsed": true,
    "tags": [
     "student"
    ]
   },
   "outputs": [],
   "source": [
    "def words_in_texts(words, texts):\n",
    "    '''\n",
    "    Args:\n",
    "        `words` (list of str): words to find\n",
    "        `texts` (Series of str): strings to search in\n",
    "    \n",
    "    Returns:\n",
    "        NumPy array of 0s and 1s with shape (n, p) where n is the\n",
    "        number of texts and p is the number of words.\n",
    "    '''\n",
    "    return np.array([words_in_text(words, text) for text in texts])\n",
    "\n",
    "# If these don't error, your function outputs the correct output for these examples\n",
    "assert np.allclose(words_in_texts(['hello', 'bye', 'world'], pd.Series(['hello', 'hello world hello'])),\n",
    "                   np.array([[1, 0, 0], [1, 0, 1]]))"
   ]
  },
  {
   "cell_type": "markdown",
   "metadata": {},
   "source": [
    "## Classification\n",
    "\n",
    "Notice that the output of `words_in_texts` is a numeric matrix containing features for each email. This means we can use it directly to train a classifier.\n",
    "\n",
    "### Question 4\n",
    "\n",
    "We've given you 5 words that might be useful as features to distinguish spam/ham emails. Use these words as well as the `train` DataFrame to create two NumPy arrays: `X_train` and `y_train`.\n",
    "\n",
    "`X_train` should be a matrix of 0s and 1s created by using your `words_in_texts` function on all the emails in the training set.\n",
    "\n",
    "`y_train` should be vector of the correct labels for each email in the training set."
   ]
  },
  {
   "cell_type": "code",
   "execution_count": 9,
   "metadata": {
    "scrolled": true,
    "tags": [
     "student"
    ]
   },
   "outputs": [
    {
     "data": {
      "text/plain": [
       "(array([[0, 1, 0, 0, 0, 1],\n",
       "        [0, 0, 0, 0, 0, 0],\n",
       "        [0, 0, 0, 0, 0, 0],\n",
       "        [0, 0, 0, 0, 1, 0]]), 0    0\n",
       " 1    0\n",
       " 2    1\n",
       " 3    0\n",
       " 4    0\n",
       " Name: spam, dtype: int64)"
      ]
     },
     "execution_count": 9,
     "metadata": {},
     "output_type": "execute_result"
    }
   ],
   "source": [
    "some_words = ['drug', 'bank', 'prescription', 'memo', 'private']\n",
    "\n",
    "X_train = words_in_texts(some_words, train['email'])\n",
    "y_train = train['spam']\n",
    "\n",
    "np.hstack([X_train[:4], np.resize(np.array([1,0,0,0]), (4, 1))]), y_train[:5]"
   ]
  },
  {
   "cell_type": "markdown",
   "metadata": {},
   "source": [
    "### Question 5\n",
    "\n",
    "Now we have matrices we can give to scikit-learn! Using the [`LogisticRegression`](http://scikit-learn.org/stable/modules/generated/sklearn.linear_model.LogisticRegression.html) classifier, train a logistic regression model using `X_train` and `y_train`. Then, output the accuracy of the model in the cell below. You should get an accuracy of around 0.7557."
   ]
  },
  {
   "cell_type": "code",
   "execution_count": 10,
   "metadata": {
    "tags": [
     "student"
    ]
   },
   "outputs": [
    {
     "name": "stdout",
     "output_type": "stream",
     "text": [
      "238.0 137.0 6071.0 1902.0\n",
      "0.7557498802108289\n"
     ]
    }
   ],
   "source": [
    "from sklearn.linear_model import LogisticRegression\n",
    "\n",
    "clf = LogisticRegression()\n",
    "clf.fit(X_train, y_train)\n",
    "clf.score(X_train, y_train)\n",
    "\n",
    "y_pred = clf.predict(X_train)\n",
    "tp, fp, tn, fn = 0, 0, 0, 0\n",
    "for i in range(len(y_pred)):\n",
    "    if y_train[i] == y_pred[i]:\n",
    "        if y_train[i] == 0:\n",
    "            tn += 1\n",
    "        else:\n",
    "            tp += 1\n",
    "    else:\n",
    "        if y_pred[i] == 0:\n",
    "            fn += 1\n",
    "        else:\n",
    "            fp += 1\n",
    "tp, fp, tn, fn = float(tp), float(fp), float(tn), float(fn)\n",
    "print(tp, fp, tn, fn)\n",
    "#print(tp/(tp+fp), tp/(tp+fn))\n",
    "print((tp+tn)/(tp+ tn+ fp+fn))"
   ]
  },
  {
   "cell_type": "markdown",
   "metadata": {},
   "source": [
    "### Question 6\n",
    "\n",
    "That doesn't seem too shabby! But the classifier you made above isn't as great as you might think. Recall that we have other ways of evaluating a classifier:\n",
    "\n",
    "*Sensitivity* (also called *recall*) is the rate of true positives; in this case, the proportion of spam emails that are classified as spam.\n",
    "\n",
    "*Specificity* (also called *precision*) is the rate of true negatives; in this case, the proportion of ham emails that are classified as ham.\n",
    "\n",
    "Answer the following questions in the light blue cell below. You may create other cells for scratch work, but your final answers\n",
    "must appear in the light blue cell.\n",
    "\n",
    "0. Suppose we have a classifier that just predicts 0 (ham) for every email. What is its sensitivity? Its specificity?\n",
    "0. Suppose we have a classifier that just predicts 0 (ham) for every email. What is its accuracy on the training set?\n",
    "0. Our logistic regression classifier got 75% prediction accuracy (number of correct predictions / total). Why is this a poor accuracy?\n",
    "0. What is the sensitivity of the logistic regression classifier above? The specificity? What kind of mistake is our classifier more likely to make: false positives or false negatives?\n",
    "0. Given the word features we gave you above, name one reason this classifier is performing poorly."
   ]
  },
  {
   "cell_type": "code",
   "execution_count": 11,
   "metadata": {},
   "outputs": [
    {
     "data": {
      "text/plain": [
       "8348"
      ]
     },
     "execution_count": 11,
     "metadata": {},
     "output_type": "execute_result"
    }
   ],
   "source": [
    "len(train['spam'])"
   ]
  },
  {
   "cell_type": "markdown",
   "metadata": {
    "tags": [
     "student",
     "written",
     "q06"
    ]
   },
   "source": [
    "0. In this case, there no predictive positives so tp = 0, fp = 0. Since everything is predicted to be ham, the number of tn = total number - number of spam = 6208 and fn = number of spam = 2140. Hence, precision = 100%, recall = 0%. \n",
    "0. Accuracy = (tp + tn)/(tp + tn + fp + fn) = 74.37%.\n",
    "0. We can get a cheaper model with a close accuracy of 74.37% by just predicting ham for each email irrespective of its features.\n",
    "0. Precision = 63.47%, recall = 11.12%. More likely to make false negatives.\n",
    "0. Some of these words could occur even in non spam emails. Also this is a very small list.We also ned to accont for morphed spelings of these hitwords."
   ]
  },
  {
   "cell_type": "markdown",
   "metadata": {},
   "source": [
    "## Moving Forward\n",
    "\n",
    "With this in mind, it is now your assignment to make your classifier more accurate. In particular, in order to get full credit on the accuracy part of this assignment, you must get at least **88%** accuracy on the test set. To see your accuracy on the test set, you will use your classifier to predict every email in the `test` DataFrame and upload your predictions to Kaggle.\n",
    "\n",
    "To prevent you from fitting to the test set, you may only upload predictions to Kaggle twice per day. This means you should start early!\n",
    "\n",
    "Here are some ideas for improving your model:\n",
    "\n",
    "1. Finding better features based on the email text. For example, simple features that typically work for emails are:\n",
    "    1. Number of characters in the subject / body\n",
    "    1. Number of words in the subject / body\n",
    "    1. Use of punctuation (e.g., how many '!' were there?)\n",
    "    1. Number / percentage of capital letters \n",
    "    1. Whether or not the email is a reply to an earlier email or a forwarded email. \n",
    "    1. Using bag-of-words or [td-idf](http://www.tfidf.com/).\n",
    "1. Finding better words to use as features. Which words are the best at distinguishing emails? This requires digging into the email text itself. (To help you out, we've given you a set of [English stopwords](https://www.wikiwand.com/en/Stop_words) in `stopwords.csv`)\n",
    "1. Better data processing. For example, many emails contain HTML as well as text. You can consider extracting out the text from the HTML to help you find better words. Or, you can match HTML tags themselves, or even some combination of the two.\n",
    "1. Model selection. You can adjust parameters of your model (e.g., the regularization parameter) to achieve higher accuracy. \n",
    "\n",
    "Recall that you should use cross-validation to do feature and model selection properly! Otherwise, you will likely overfit to your training data.\n",
    "\n",
    "You may use whatever method you prefer in order to create features. However, we want to make it fair to students who are seeing these techniques for the first time.  As such, **you are only allowed to train logistic regression models and their regularized forms**. This means no random forest, k-nearest-neighbors, neural nets, etc.\n",
    "\n",
    "We will not give you a code skeleton to do this, so feel free to create as many cells as you need in order to tackle this task. However, you should show us your process as outlined here:"
   ]
  },
  {
   "cell_type": "code",
   "execution_count": 12,
   "metadata": {},
   "outputs": [
    {
     "name": "stdout",
     "output_type": "stream",
     "text": [
      "Avg val acc = 0.9779640718562874, Avg train acc = 0.9867876091049119\n"
     ]
    }
   ],
   "source": [
    "from sklearn.feature_extraction.text import CountVectorizer\n",
    "\n",
    "with open('./stopwords.csv') as f:\n",
    "    stop_words = [x.replace('\\n', '') for x in f.readlines()]\n",
    "\n",
    "avg_val_acc, avg_train_acc = 0.0, 0.0\n",
    "n_reps = 10\n",
    "for _ in range(n_reps):\n",
    "    train_bow = train.sample(frac=1) # permuting the data\n",
    "    train_frac = 0.7\n",
    "    train_cutoff = int(len(train_bow) * train_frac)\n",
    "    n_features = int(1.0 * train_cutoff)\n",
    "    \n",
    "    vectorizer = CountVectorizer(stop_words=stop_words)\n",
    "    X_train_bow = vectorizer.fit_transform(list(train_bow['email'][:train_cutoff]))\n",
    "    y_train_bow = train_bow['spam'][:train_cutoff]\n",
    "    X_val_bow = vectorizer.transform(list(train_bow['email'][train_cutoff:]))\n",
    "    y_val_bow = train_bow['spam'][train_cutoff:]\n",
    "\n",
    "    clf_bow = LogisticRegression(C=0.0055)\n",
    "    clf_bow.fit(X_train_bow, y_train_bow)\n",
    "    \n",
    "    val_acc, train_acc = clf_bow.score(X_val_bow, y_val_bow), clf_bow.score(X_train_bow, y_train_bow)\n",
    "    avg_val_acc += val_acc\n",
    "    avg_train_acc += train_acc\n",
    "\n",
    "avg_val_acc /= n_reps\n",
    "avg_train_acc /= n_reps\n",
    "\n",
    "print(\"Avg val acc = {0}, Avg train acc = {1}\".format(avg_val_acc, avg_train_acc))"
   ]
  },
  {
   "cell_type": "code",
   "execution_count": 13,
   "metadata": {},
   "outputs": [
    {
     "name": "stdout",
     "output_type": "stream",
     "text": [
      "0.983349305223\n",
      "0.239\n",
      "0.999880210829\n",
      "0.25\n"
     ]
    }
   ],
   "source": [
    "kaggle_vectorizer = CountVectorizer(stop_words=stop_words, max_features=int(0.4*len(train)))\n",
    "kaggle_X_train = kaggle_vectorizer.fit_transform(list(train['email']))\n",
    "kaggle_y_train = train['spam']\n",
    "\n",
    "kaggle_clf = LogisticRegression(C=0.0055)\n",
    "kaggle_clf.fit(kaggle_X_train, kaggle_y_train)\n",
    "print(kaggle_clf.score(kaggle_X_train, kaggle_y_train))\n",
    "\n",
    "kaggle_X_test = kaggle_vectorizer.transform(list(test['email']))\n",
    "kaggle_y_test = kaggle_clf.predict(kaggle_X_test)\n",
    "print(float(sum(kaggle_y_test))/len(kaggle_y_test))\n",
    "\n",
    "kaggle_vectorizer_2 = CountVectorizer(stop_words=stop_words)\n",
    "kaggle_X_train_2 = kaggle_vectorizer_2.fit_transform(list(train['email']))\n",
    "kaggle_y_train_2 = train['spam']\n",
    "\n",
    "kaggle_clf_2 = LogisticRegression()\n",
    "kaggle_clf_2.fit(kaggle_X_train_2, kaggle_y_train_2)\n",
    "print(kaggle_clf_2.score(kaggle_X_train_2, kaggle_y_train_2))\n",
    "\n",
    "kaggle_X_test_2 = kaggle_vectorizer_2.transform(list(test['email']))\n",
    "kaggle_y_test_2 = kaggle_clf_2.predict(kaggle_X_test_2)\n",
    "print(float(sum(kaggle_y_test_2))/len(kaggle_y_test_2))"
   ]
  },
  {
   "cell_type": "code",
   "execution_count": 14,
   "metadata": {},
   "outputs": [
    {
     "name": "stdout",
     "output_type": "stream",
     "text": [
      "0.999640632487\n",
      "0.25\n",
      "4\n",
      "313 1 0\n",
      "-----------------------------\n",
      "535 0 1\n",
      "-----------------------------\n",
      "566 1 0\n",
      "-----------------------------\n",
      "713 0 1\n",
      "-----------------------------\n"
     ]
    }
   ],
   "source": [
    "kaggle_vectorizer_3 = CountVectorizer(stop_words=stop_words)\n",
    "kaggle_clf_3 = LogisticRegression(penalty='l1')\n",
    "kaggle_clf_3.fit(kaggle_vectorizer_3.fit_transform(list(train['email'])), kaggle_y_train)\n",
    "print(kaggle_clf_3.score(kaggle_vectorizer_3.fit_transform(list(train['email'])), kaggle_y_train))\n",
    "\n",
    "kaggle_X_test = kaggle_vectorizer_3.transform(list(test['email']))\n",
    "kaggle_y_test_3 = kaggle_clf_3.predict(kaggle_X_test)\n",
    "print(float(sum(kaggle_y_test_3))/len(kaggle_y_test_3))\n",
    "print(sum(abs(kaggle_y_test_3 - kaggle_y_test_2)))\n",
    "\n",
    "for i in range(len(kaggle_y_test_3)):\n",
    "    if kaggle_y_test_2[i] != kaggle_y_test_3[i]:\n",
    "        print(i, kaggle_y_test_2[i], kaggle_y_test_3[i])\n",
    "        print('-----------------------------')"
   ]
  },
  {
   "cell_type": "code",
   "execution_count": 15,
   "metadata": {},
   "outputs": [
    {
     "data": {
      "text/plain": [
       "(0,\n",
       " 1,\n",
       " '--2063203.1026378321083.javamail.root.abv-sfo1-ac-agent1\\n content-type: text/plain; charset=iso-8859-1\\n content-transfer-encoding: 7bit\\n \\n \\n -----------------------------------------------------------------\\n     zdnet delivers price-feature analysis\\tvol 1, no. 2\\n -----------------------------------------------------------------\\n \\n this week, we present a special shopper report featuring\\n four cool products. we have reviewed these products,\\n compared each to five products with similar features,\\n and analyzed the range of prices for each category. what\\n you\\'ll see is a shopper tool we\\'ve dubbed the \"price-feature\\n ratio analysis.\" featured products can fall in to three\\n stages of price-feature ratios:\\n \\n stage 1: high price-feature ratio - technophiles will rush\\n to buy the product, but can expect to pay higher prices\\n for the honor of being the first among their friends to have one.\\n \\n stage 2: variable price-feature ratio - expect high variability\\n in prices among products with similar features. it pays to\\n comparison shop for the best price.\\n \\n stage 3: low price-feature ratio - when compared to products\\n with similar features, prices are low and don\\'t vary much\\n from merchant to merchant. use our merchant ratings to\\n find the right one for you.\\n \\n we have rated each of the products featured in this supplement\\n to aid your shopping experience.\\n \\n ______________________________________________________________\\n \\n \\n featured products\\n 1) sound blaster extigy\\n 2) handspring treo 90\\n 3) kds rad-5 15-inch lcd\\n 4) sony playstation 2\\n \\n ______________________________________________________________\\n \\n sound blaster extigy sound convergence device\\n \\n the lowdown: if you\\'re into watching dvds, listening to tunes,\\n or recording music with your computer, you\\'d be doing yourself\\n a favor by upgrading your sound with this convergence device.\\n \\n read review:\\n --\\n http://chkpt.zdnet.com/chkpt/tedstest02t/http://www.zdnet.com/supercenter/stories/overview/0,12069,554219,00.html\\n \\n \\n price-feature ratio analysis: this product is in stage 2:\\n variable price-feature ratio. you can expect high variability\\n in prices among products with similar features. it pays to\\n comparison shop for the best price.\\n \\n check prices:\\n --\\n http://zdnetshopper.cnet.com/shopping/resellers/0-6928060-1411-8751383.html?tag=st.cr.mp.dpt.pr8751383\\n \\n \\n ______________________________________________________________\\n \\n handspring treo 90 pda\\n \\n the lowdown: if you\\'re not fond of graffiti, this is an excellent\\n alternative to other palm os handhelds.\\n \\n read review:\\n --\\n http://chkpt.zdnet.com/chkpt/tedstest02t/http://www.zdnet.com/supercenter/stories/overview/0,12069,561635,00.html\\n \\n \\n price-feature ratio analysis: this product is in stage 1:\\n high price-feature ratio technophiles will rush to buy the product,\\n but can expect to pay higher prices for the honor of being the first\\n among their friends to have one.\\n \\n check prices:\\n --\\n http://zdnetshopper.cnet.com/shopping/resellers/0-7085-1411-9946796.html?tag=st.cr.mp.dpt.pr9946796\\n \\n \\n ______________________________________________________________\\n \\n kds rad-5 15-inch lcd\\n \\n the lowdown: without our even hitting the power button, the\\n stylish kds radius rad-5 stands out from the pack with its\\n silver casing and blue highlights. turn on this basic,\\n analog-only lcd and you\\'ll see an equally impressive image\\n at its native resolution of 1,024x768.\\n \\n read review:\\n --\\n http://chkpt.zdnet.com/chkpt/tedstest02t/http://www.zdnet.com/supercenter/stories/overview/0,12069,519801,00.html\\n \\n \\n price-feature ratio analysis: this product is in stage 2:\\n variable price-feature ratio. you can expect high variability\\n in prices among products with similar features. it pays to\\n comparison shop for the best price.\\n \\n check prices:\\n --\\n http://zdnetshopper.cnet.com/shopping/resellers/0-11600-1411-5609413.html?tag=st.cr.mp.dpt.pr5609413\\n \\n \\n ______________________________________________________________\\n \\n sony playstation 2\\n \\n the lowdown: the elder statesman of next-generation consoles,\\n the ps2, now priced below $200, has the luxury of a year\\'s\\n head start and many solid games.\\n \\n read review:\\n --\\n http://chkpt.zdnet.com/chkpt/tedstest02t/http://www.zdnet.com/supercenter/stories/overview/0,12069,133000,00.html\\n \\n \\n price-feature ratio analysis: this product is at stage 3:\\n low price-feature ratio. when compared to products with similar\\n features, prices are low and don\\'t vary much from merchant\\n to merchant. use our merchant ratings to find the right one\\n for you.\\n \\n check prices:\\n --\\n http://zdnetshopper.cnet.com/shopping/resellers/0-11600-1411-7932420.html?tag=st.cr.mp.dpt.pr7932420\\n \\n \\n \\n *************************************************************\\n \\n \\n the e-mail address for your subscription is qqqqqqqqqq-zdnet@example.com\\n \\n to sign up for more zdnet newsletters, click here:\\n notrack\\n http://nl.com.com/servlet/url_login?email=qqqqqqqqqq-zdnet@example.com&brand=zdnet\\n \\n \\n to unsubscribe, click here:\\n http://clickthru.online.com/click?q=0d-3aouzkr6rgl1qjtct6wkryaq6gviidrr\\n \\n \\n to receive your newsletter in html format, click here:\\n notrack\\n http://nl.com.com/servlet/url_login?email=qqqqqqqqqq-zdnet@example.com&brand=zdnet\\n \\n \\n for the zdnet newsletters faq, click here:\\n http://www.zdnet.com/filters/email/faq/\\n \\n to learn about advertising opportunities in zdnet newsletters, click\\n here: http://www.cnet.com/aboutcnet/0-13618.html?tag=ft\\n \\n \\n <tr:ad name=\"copyright\" />\\n \\n \\n \\n \\n \\n \\n --2063203.1026378321083.javamail.root.abv-sfo1-ac-agent1\\n content-type: text/html; charset=iso-8859-1\\n content-transfer-encoding: 7bit\\n \\n subj: shop smarter with zdnet\\'s price-feature analysis\\n \\n <html>\\n <head>\\n <title>zdnet delivers</title>\\n <body style=\"margin:8px 9px 9px 12px\" bgcolor=\"#ffffff\" background=\"http://techupdate.zdnet.com/techupdate/i/bg_232850.gif\" link=\"#003399\" alink=\"#cc0000\" vlink=\"#003399\"> \\n <div align=\"center\">\\n \\n <!-- header -->\\n <a name=\"top\"></a> \\n <table bgcolor=\"#232850\" border=\"0\" cellpadding=\"0\" cellspacing=\"0\" width=\"624\"><tbody>\\n <tr valign=\"bottom\"><td width=\"624\"><img alt=\"\" height=\"53\" src=\"http://image.com.com/graphics/newsletters/hd_deliver.gif\" width=\"624\" /></td></tr>\\n </tbody></table>\\n <table width=\"624\" border=\"0\" cellspacing=\"0\" cellpadding=\"0\"><tbody>\\n <tr>\\n <td width=\"1\" rowspan=\"2\" bgcolor=\"#83a3cb\"><img src=\"http://www.zdnet.com/b.gif\" width=\"1\" height=\"7\" alt=\"\" /><br /></td>\\n <td width=\"622\" height=\"6\" colspan=\"3\" bgcolor=\"#1e5c99\"><img alt=\"\" src=\"http://www.zdnet.com/b.gif\" width=\"1\" height=\"6\" /><br /></td>\\n <td width=\"1\" rowspan=\"2\" bgcolor=\"#83a3cb\"><img alt=\"\" src=\"http://www.zdnet.com/b.gif\" width=\"1\" height=\"7\" /><br /></td>\\n </tr>\\n <tr>\\n <td width=\"10\" height=\"1\" bgcolor=\"#1e5c99\"><img src=\"http://www.zdnet.com/b.gif\" width=\"10\" height=\"1\" alt=\"\" /><br /></td>\\n <td width=\"600\" height=\"1\" bgcolor=\"#000000\"><img src=\"http://www.zdnet.com/b.gif\" width=\"600\" height=\"1\" alt=\"\" /><br /></td>\\n <td width=\"10\" height=\"1\" bgcolor=\"#1e5c99\"><img src=\"http://www.zdnet.com/b.gif\" width=\"10\" height=\"1\" alt=\"\" /><br /></td>\\n </tr>\\n </tbody></table>\\n <!-- /header -->\\n \\n \\n <!-- main -->\\n <table bgcolor=\"#ffffff\" border=\"0\" cellpadding=\"0\" cellspacing=\"0\" width=\"624\"><tbody><tr>\\n <td bgcolor=\"#83a3cb\" width=\"1\"><img alt=\"\" height=\"1\" src=\"http://www.zdnet.com/b.gif\" width=\"1\" /></td>\\n <td bgcolor=\"#1e5c99\" width=\"10\"><img alt=\"\" height=\"1\" src=\"http://www.zdnet.com/b.gif\" width=\"10\" /></td>\\n <td bgcolor=\"#000000\" width=\"1\"><img alt=\"\" height=\"1\" src=\"http://www.zdnet.com/b.gif\" width=\"1\" /></td>\\n <td width=\"10\"><img alt=\"\" height=\"1\" src=\"http://www.zdnet.com/b.gif\" width=\"10\" /></td>\\n <td width=\"580\"><div align=\"center\">\\n <img alt=\"\" src=\"i/dots578.gif\" width=\"578\" height=\"1\" vspace=\"10\" /><br />\\n <img src=\"http://www.zdnet.com/products/photogallery/header_analysis.gif\" alt=\"zdnet shopper analysis supplement\" width=\"394\" height=\"19\" border=\"0\" /><br />\\n <img alt=\"\" src=\"i/dots578.gif\" width=\"578\" height=\"1\" vspace=\"10\" />\\n </div>\\n         <table border=\"0\" cellpadding=\"0\" cellspacing=\"0\" width=\"580\">\\n         <tr valign=\"top\">\\n         <td width=\"280\">\\n         \\n                 <!-- 1 -->\\n                 <img src=\"http://shopper.cnet.com/i/sh/zd/02/title_1.gif\" alt=\"sound blaster extigy\" width=\"280\" height=\"35\" border=\"0\" /><br />\\n                 <div align=\"center\">\\t\\n \\t\\t\\t\\t<a href=\"http://chkpt.zdnet.com/chkpt/tedstest02/http://www.zdnet.com/supercenter/stories/overview/0,12069,554219,00.html\"><img src=\"http://shopper.cnet.com/i/sh/zd/02/img_extigy.jpg\" alt=\"sound blaster extigy\" width=\"280\" height=\"180\" border=\"0\" /></a></div>\\n                 <font face=\"ms sans serif\" size=\"-2\"><div align=\"center\" style=\"padding-top:8px; padding-bottom:8px\"><img src=\"http://www.cnet.com/b.gif\" width=\"8\" height=\"5\" border=\"0\" alt=\"\" /></div>\\n                 <b>the lowdown:</b>  if you\\'re into watching dvds, listening to tunes, or recording music with your computer, you\\'d be doing yourself a favor by upgrading your sound with this convergence device. \\n \\t\\t\\t\\t<a href=\"http://chkpt.zdnet.com/chkpt/tedstest02/http://www.zdnet.com/supercenter/stories/overview/0,12069,554219,00.html\" style=\"text-decoration:none\">read review</a><br /><br />\\n                 </font>\\n                 <table cellpadding=\"0\" cellspacing=\"0\" width=\"280\" border=\"0\" bgcolor=\"#eeeeee\">\\n                 <tr><td colspan=\"5\" height=\"15\" bgcolor=\"#999999\"><font face=\"ms sans serif\" size=\"-2\" color=\"#ffffff\">&nbsp;<b>check latest prices</b></font></td></tr>\\n                 <tr><td colspan=\"5\"><img alt=\"\" height=\"3\" src=\"http://www.zdnet.com/b.gif\" width=\"1\" /></td></tr>\\n                 <tr>\\n                 <td width=\"5\" rowspan=\"5\"><img alt=\"\" height=\"1\" src=\"http://www.zdnet.com/b.gif\" width=\"5\" /></td>\\n                 <td width=\"8\"><img src=\"http://www.zdnet.com/products/i/arrow_yl.gif\" width=\"8\" height=\"10\" border=\"0\" alt=\"\" /></td>\\n                 <td width=\"200\"><font face=\"ms sans serif\" size=\"-2\"><b>\\n \\t\\t\\t\\t<a href=\"http://zdnetshopper.cnet.com/go/to?tag=ex.cr.dp_0.7458626_0.8751383-22&desturl=http%3a%2f%2fwww%2ejandr%2ecom%2fjrproductpage%2eprocess%3frestartflow%3dt%26merchant%5fid%3d1%26product%5fcode%3dcln%2bsbo130ex%26source%3dzdnet%2edatafeed%2etext%2e20020612\" style=\"text-decoration:none\">j&r music and computer</a></b></font></td>\\n                 <td width=\"62\" align=\"right\"><font face=\"ms sans serif\" size=\"-2\"><b>\\n \\t\\t\\t\\t<a href=\"http://zdnetshopper.cnet.com/go/to?tag=ex.cr.dp_0.7458626_0.8751383-22&desturl=http%3a%2f%2fwww%2ejandr%2ecom%2fjrproductpage%2eprocess%3frestartflow%3dt%26merchant%5fid%3d1%26product%5fcode%3dcln%2bsbo130ex%26source%3dzdnet%2edatafeed%2etext%2e20020612\" style=\"text-decoration:none\">$150</a></b></font></td>\\n                 <td width=\"5\" rowspan=\"5\"><img alt=\"\" height=\"1\" src=\"http://www.zdnet.com/b.gif\" width=\"5\" /></td>\\n                 </tr>\\n                 <tr><td colspan=\"3\"><img alt=\"\" height=\"3\" src=\"http://www.zdnet.com/b.gif\" width=\"1\" /></td></tr>\\n                 <tr>\\n                 <td width=\"8\"><img src=\"http://www.zdnet.com/products/i/arrow_yl.gif\" width=\"8\" height=\"10\" border=\"0\" alt=\"\" /></td>\\n                 <td width=\"200\"><font face=\"ms sans serif\" size=\"-2\"><b>\\n \\t\\t\\t\\t<a href=\"http://zdnetshopper.cnet.com/go/to?tag=ex.cr.dp_0.235276_1.8751383-20&desturl=http%3a%2f%2fwww%2eus%2ebuy%2ecom%2fclickfrom%2fcnetshopper%2easp%3fsurl%3dhttp%3a%2f%2fwww%2eus%2ebuy%2ecom%2fretail%2fproduct%2easp%3fsku%3d10317374\" style=\"text-decoration:none\">buy.com</a></b></font></td>\\n                 <td width=\"62\" align=\"right\"><font face=\"ms sans serif\" size=\"-2\"><b>\\n \\t\\t\\t\\t<a href=\"http://zdnetshopper.cnet.com/go/to?tag=ex.cr.dp_0.235276_1.8751383-20&desturl=http%3a%2f%2fwww%2eus%2ebuy%2ecom%2fclickfrom%2fcnetshopper%2easp%3fsurl%3dhttp%3a%2f%2fwww%2eus%2ebuy%2ecom%2fretail%2fproduct%2easp%3fsku%3d10317374\" style=\"text-decoration:none\">$127</a></b></font></td>\\n                 </tr>\\n                 <tr><td colspan=\"3\"><img alt=\"\" height=\"3\" src=\"http://www.zdnet.com/b.gif\" width=\"1\" /></td></tr>\\n                 <tr>\\n                 <td width=\"8\"><img src=\"http://www.zdnet.com/products/i/arrow_yl.gif\" width=\"8\" height=\"10\" border=\"0\" alt=\"\" /></td>\\n                 <td width=\"200\"><font face=\"ms sans serif\" size=\"-2\"><b>\\n \\t\\t\\t\\t<a href=\"http://zdnetshopper.cnet.com/go/to?tag=ex.cr.dp_0.853818_2.8751383-22&desturl=http%3a%2f%2fad%2edoubleclick%2enet%2fclk%3b3381043%3b6453019%3bb%3fhttp%3a%2f%2fwww%2egtwaccessories%2ecom%2flink%2ehtml%3fpid%3d1830164\" style=\"text-decoration:none\">gateway</a></b></font></td>\\n                 <td width=\"62\" align=\"right\"><font face=\"ms sans serif\" size=\"-2\"><b>\\n \\t\\t\\t\\t<a href=\"http://zdnetshopper.cnet.com/go/to?tag=ex.cr.dp_0.853818_2.8751383-22&desturl=http%3a%2f%2fad%2edoubleclick%2enet%2fclk%3b3381043%3b6453019%3bb%3fhttp%3a%2f%2fwww%2egtwaccessories%2ecom%2flink%2ehtml%3fpid%3d1830164\" style=\"text-decoration:none\">$134</a></b></font></td>\\n                 </tr>\\n                 <tr><td colspan=\"5\"><img alt=\"\" height=\"3\" src=\"http://www.zdnet.com/b.gif\" width=\"1\" /></td></tr>\\n                 <tr><td colspan=\"5\" bgcolor=\"#cccccc\"><img alt=\"\" height=\"1\" src=\"http://www.zdnet.com/b.gif\" width=\"1\" /></td></tr>\\n                 <tr><td colspan=\"5\" bgcolor=\"#ffffff\"><img alt=\"\" height=\"1\" src=\"http://www.zdnet.com/b.gif\" width=\"1\" /></td></tr>\\n                 <tr><td colspan=\"5\"><img alt=\"\" height=\"3\" src=\"http://www.zdnet.com/b.gif\" width=\"1\" /></td></tr>\\n                 <tr>\\n                 <td width=\"5\"><img alt=\"\" height=\"1\" src=\"http://www.zdnet.com/b.gif\" width=\"5\" /></td>\\n                 <td colspan=\"3\">\\n                         <table border=\"0\" cellpadding=\"0\" cellspacing=\"0\">\\n                         <tr><td><img alt=\"\" src=\"http://www.zdnet.com/products/i/dollar.gif\" width=\"13\" height=\"13\" align=\"absmiddle\" /></td><td>&nbsp;<font face=\"ms sans serif\" size=\"-2\"><b>\\n \\t\\t\\t\\t\\t\\t<a href=\"http://zdnetshopper.cnet.com/shopping/resellers/0-6928060-1411-8751383.html?tag=st.cr.mp.dp.pr8751383\" style=\"text-decoration:none\">check prices</a></b></font></td></tr>\\n                         </table>\\n                 </td>\\n                 <td width=\"5\"><img alt=\"\" height=\"1\" src=\"http://www.zdnet.com/b.gif\" width=\"5\" /></td>\\n                 </tr>\\n                 <tr><td colspan=\"5\"><img alt=\"\" height=\"3\" src=\"http://www.zdnet.com/b.gif\" width=\"1\" /></td></tr>\\n                 <tr><td colspan=\"5\" bgcolor=\"#cccccc\"><img alt=\"\" height=\"1\" src=\"http://www.zdnet.com/b.gif\" width=\"1\" /></td></tr>\\n                 </table><br />\\n                 <table cellpadding=\"0\" cellspacing=\"0\" width=\"280\" border=\"0\" bgcolor=\"#eeeeee\">\\n                 <tr><td height=\"15\" bgcolor=\"#999999\"><font face=\"ms sans serif\" size=\"-2\" color=\"#ffffff\">&nbsp;<b>price-feature ratio analysis</b></font></td></tr>\\n                 </table>\\n                 <img src=\"http://shopper.cnet.com/i/sh/zd/02/graph_extigy.gif\" alt=\"price-feature ratio analysis\" width=\"280\" height=\"103\" border=\"0\" /><br />\\n                 <img alt=\"\" src=\"i/dots280.gif\" width=\"280\" height=\"1\" vspace=\"10\" /><br />\\n                 <font face=\"ms sans serif\" size=\"-2\">\\n                 <b>stage 2: variable price-feature ratio</b><br />expect high variability in prices among products with similar features. it pays to comparison shop for the best price.<br /><br /><br /><br />\\n                 </font>\\n                 <table cellpadding=\"0\" cellspacing=\"0\" width=\"280\" border=\"0\">\\n                 <tr><td>\\n \\t\\t\\t\\t<a href=\"http://chkpt.zdnet.com/chkpt/tedstest02/http://www.zdnet.com/supercenter/stories/overview/0,12069,554219,00.html\"><img src=\"http://www.zdnet.com/products/photogallery/button_review.gif\" alt=\"read review\" width=\"135\" height=\"19\" border=\"0\" /></a></td><td>\\n \\t\\t\\t\\t<a href=\"http://zdnetshopper.cnet.com/shopping/resellers/0-6928060-1411-8751383.html?tag=st.cr.mp.dp.pr8751383\"><img src=\"http://www.zdnet.com/products/photogallery/button_prices.gif\" alt=\"check prices\" width=\"135\" height=\"19\" border=\"0\" /></a></td></tr>\\n                 </table><br />\\n                 <table cellpadding=\"0\" cellspacing=\"0\" width=\"280\" border=\"0\">\\n                 <tr><td bgcolor=\"#cccccc\"><img alt=\"\" height=\"1\" src=\"http://www.zdnet.com/b.gif\" width=\"1\" /></td></tr>\\n                 </table><br />\\n                 <!-- /1 -->\\n                 \\n         </td>\\n         <td width=\"10\"><img alt=\"\" height=\"1\" src=\"http://www.zdnet.com/b.gif\" width=\"10\" /></td>\\n         <td width=\"1\" bgcolor=\"#cccccc\"><img alt=\"\" height=\"1\" src=\"http://www.zdnet.com/b.gif\" width=\"1\" /></td>\\n         <td width=\"9\"><img alt=\"\" height=\"1\" src=\"http://www.zdnet.com/b.gif\" width=\"9\" /></td>\\n         <td width=\"280\">\\n         \\n                 <!-- 2 -->\\n                 <img src=\"http://shopper.cnet.com/i/sh/zd/02/title_2.gif\" alt=\"handspring treo 90 \" width=\"280\" height=\"35\" border=\"0\" /><br />\\n                 <div align=\"center\">\\n \\t\\t\\t\\t<a href=\"http://chkpt.zdnet.com/chkpt/tedstest02/http://www.zdnet.com/supercenter/stories/overview/0,12069,561635,00.html\"><img src=\"http://shopper.cnet.com/i/sh/zd/02/img_treo.jpg\" alt=\"handspring treo 90 \" width=\"280\" height=\"180\" border=\"0\" /></a></div>\\n                 <font face=\"ms sans serif\" size=\"-2\">\\n                 <div align=\"center\" style=\"padding-top:8px; padding-bottom:8px\"><img src=\"http://www.cnet.com/b.gif\" width=\"8\" height=\"5\" border=\"0\" alt=\"\" /></div>\\n                 <b>the lowdown:</b> if you\\'re not fond of graffiti, this is an excellent alternative to other palm os handhelds. \\n \\t\\t\\t\\t<a href=\"http://chkpt.zdnet.com/chkpt/tedstest02/http://www.zdnet.com/supercenter/stories/overview/0,12069,561635,00.html\" style=\"text-decoration:none\">read review</a><br /><br /><br />\\n                 </font>\\n                 <table cellpadding=\"0\" cellspacing=\"0\" width=\"280\" border=\"0\" bgcolor=\"#eeeeee\">\\n                 <tr><td colspan=\"5\" height=\"15\" bgcolor=\"#999999\"><font face=\"ms sans serif\" size=\"-2\" color=\"#ffffff\">&nbsp;<b>check latest prices</b></font></td></tr>\\n                 <tr><td colspan=\"5\"><img alt=\"\" height=\"3\" src=\"http://www.zdnet.com/b.gif\" width=\"1\" /></td></tr>\\n                 <tr>\\n                 <td width=\"5\" rowspan=\"5\"><img alt=\"\" height=\"1\" src=\"http://www.zdnet.com/b.gif\" width=\"5\" /></td>\\n                 <td width=\"8\"><img src=\"http://www.zdnet.com/products/i/arrow_yl.gif\" width=\"8\" height=\"10\" border=\"0\" alt=\"\" /></td>\\n                 <td width=\"200\"><font face=\"ms sans serif\" size=\"-2\"><b>\\n \\t\\t\\t\\t<a href=\"http://zdnetshopper.cnet.com/go/to?tag=ex.cr.dp_0.235336_0.9946796-10&desturl=http%3a%2f%2fclickserve%2ecc%2ddt%2ecom%2flink%2fddiprod%3flid%3d345209%26pid%3d294344\" style=\"text-decoration:none\">pc connection</a></b></font></td>\\n                 <td width=\"62\" align=\"right\"><font face=\"ms sans serif\" size=\"-2\"><b>\\n \\t\\t\\t\\t<a href=\"http://zdnetshopper.cnet.com/go/to?tag=ex.cr.dp_0.235336_0.9946796-10&desturl=http%3a%2f%2fclickserve%2ecc%2ddt%2ecom%2flink%2fddiprod%3flid%3d345209%26pid%3d294344\" style=\"text-decoration:none\">$299</a></b></font></td>\\n                 <td width=\"5\" rowspan=\"5\"><img alt=\"\" height=\"1\" src=\"http://www.zdnet.com/b.gif\" width=\"5\" /></td>\\n                 </tr>\\n                 <tr><td colspan=\"3\"><img alt=\"\" height=\"3\" src=\"http://www.zdnet.com/b.gif\" width=\"1\" /></td></tr>\\n                 <tr>\\n                 <td width=\"8\"><img src=\"http://www.zdnet.com/products/i/arrow_yl.gif\" width=\"8\" height=\"10\" border=\"0\" alt=\"\" /></td>\\n                 <td width=\"200\"><font face=\"ms sans serif\" size=\"-2\"><b>\\n \\t\\t\\t\\t<a href=\"http://zdnetshopper.cnet.com/go/to?tag=ex.cr.dp_0.235867_1.9946796-10&desturl=http%3a%2f%2fadfarm%2emediaplex%2ecom%2fad%2fck%2f629%2d5430%2d1104%2d0%3fck%3d22\" style=\"text-decoration:none\">handspring</a></b></font></td>\\n                 <td width=\"62\" align=\"right\"><font face=\"ms sans serif\" size=\"-2\"><b>\\n \\t\\t\\t\\t<a href=\"http://zdnetshopper.cnet.com/go/to?tag=ex.cr.dp_0.235867_1.9946796-10&desturl=http%3a%2f%2fadfarm%2emediaplex%2ecom%2fad%2fck%2f629%2d5430%2d1104%2d0%3fck%3d22\" style=\"text-decoration:none\">$299</a></b></font></td>\\n                 </tr>\\n                 <tr><td colspan=\"3\"><img alt=\"\" height=\"3\" src=\"http://www.zdnet.com/b.gif\" width=\"1\" /></td></tr>\\n                 <tr>\\n                 <td width=\"8\"><img src=\"http://www.zdnet.com/products/i/arrow_yl.gif\" width=\"8\" height=\"10\" border=\"0\" alt=\"\" /></td>\\n                 <td width=\"200\"><font face=\"ms sans serif\" size=\"-2\"><b>\\n \\t\\t\\t\\t<a href=\"http://zdnetshopper.cnet.com/go/to?tag=ex.cr.dp_0.235003_2.9946796-10&desturl=http%3a%2f%2fwww%2ecdw%2ecom%2fr%2easp%3fn%3d10281%26cdwedc%3d385442\" style=\"text-decoration:none\">cdw</a></b></font></td>\\n                 <td width=\"62\" align=\"right\"><font face=\"ms sans serif\" size=\"-2\"><b>\\n \\t\\t\\t\\t<a href=\"http://zdnetshopper.cnet.com/go/to?tag=ex.cr.dp_0.235003_2.9946796-10&desturl=http%3a%2f%2fwww%2ecdw%2ecom%2fr%2easp%3fn%3d10281%26cdwedc%3d385442\" style=\"text-decoration:none\">$299</a></b></font></td>\\n                 </tr>\\n                 <tr><td colspan=\"5\"><img alt=\"\" height=\"3\" src=\"http://www.zdnet.com/b.gif\" width=\"1\" /></td></tr>\\n                 <tr><td colspan=\"5\" bgcolor=\"#cccccc\"><img alt=\"\" height=\"1\" src=\"http://www.zdnet.com/b.gif\" width=\"1\" /></td></tr>\\n                 <tr><td colspan=\"5\" bgcolor=\"#ffffff\"><img alt=\"\" height=\"1\" src=\"http://www.zdnet.com/b.gif\" width=\"1\" /></td></tr>\\n                 <tr><td colspan=\"5\"><img alt=\"\" height=\"3\" src=\"http://www.zdnet.com/b.gif\" width=\"1\" /></td></tr>\\n                 <tr>\\n                 <td width=\"5\"><img alt=\"\" height=\"1\" src=\"http://www.zdnet.com/b.gif\" width=\"5\" /></td>\\n                 <td colspan=\"3\">\\n                         <table border=\"0\" cellpadding=\"0\" cellspacing=\"0\">\\n                         <tr><td><img alt=\"\" src=\"http://www.zdnet.com/products/i/dollar.gif\" width=\"13\" height=\"13\" align=\"absmiddle\" /></td><td>&nbsp;<font face=\"ms sans serif\" size=\"-2\"><b>\\n \\t\\t\\t\\t\\t\\t<a href=\"http://zdnetshopper.cnet.com/shopping/resellers/0-7085-1411-9946796.html?tag=st.cr.mp.dp.pr9946796\" style=\"text-decoration:none\">check prices</a></b></font></td></tr>\\n                         </table>\\n                 </td>\\n                 <td width=\"5\"><img alt=\"\" height=\"1\" src=\"http://www.zdnet.com/b.gif\" width=\"5\" /></td>\\n                 </tr>\\n                 <tr><td colspan=\"5\"><img alt=\"\" height=\"3\" src=\"http://www.zdnet.com/b.gif\" width=\"1\" /></td></tr>\\n                 <tr><td colspan=\"5\" bgcolor=\"#cccccc\"><img alt=\"\" height=\"1\" src=\"http://www.zdnet.com/b.gif\" width=\"1\" /></td></tr>\\n                 </table><br />\\n                 <table cellpadding=\"0\" cellspacing=\"0\" width=\"280\" border=\"0\" bgcolor=\"#eeeeee\">\\n                 <tr><td height=\"15\" bgcolor=\"#999999\"><font face=\"ms sans serif\" size=\"-2\" color=\"#ffffff\">&nbsp;<b>price-feature ratio analysis</b></font></td></tr>\\n                 </table>\\n                 <img src=\"http://shopper.cnet.com/i/sh/zd/02/graph_treo.gif\" alt=\"price-feature ratio analysis\" width=\"280\" height=\"103\" border=\"0\" /><br />\\n                 <img alt=\"\" src=\"i/dots280.gif\" width=\"280\" height=\"1\" vspace=\"10\" /><br />\\n                 <font face=\"ms sans serif\" size=\"-2\">\\n                 <b>stage 1: high price-feature ratio</b><br />\\n technophiles will rush to buy the product, but can expect to pay higher prices for the honor of being the first among their friends to have one. \\n <br /><br /><br />\\n                 </font>\\n                 <table cellpadding=\"0\" cellspacing=\"0\" width=\"280\" border=\"0\">\\n                 <tr><td>\\n \\t\\t\\t\\t<a href=\"http://chkpt.zdnet.com/chkpt/tedstest02/http://www.zdnet.com/supercenter/stories/overview/0,12069,561635,00.html\"><img src=\"http://www.zdnet.com/products/photogallery/button_review.gif\" alt=\"read review\" width=\"135\" height=\"19\" border=\"0\" /></a></td><td>\\n \\t\\t\\t\\t<a href=\"http://zdnetshopper.cnet.com/shopping/resellers/0-7085-1411-9946796.html?tag=st.cr.mp.dp.pr9946796\"><img src=\"http://www.zdnet.com/products/photogallery/button_prices.gif\" alt=\"check prices\" width=\"135\" height=\"19\" border=\"0\" /></a></td></tr>\\n                 </table><br />\\n                 <table cellpadding=\"0\" cellspacing=\"0\" width=\"280\" border=\"0\">\\n                 <tr><td bgcolor=\"#cccccc\"><img alt=\"\" height=\"1\" src=\"http://www.zdnet.com/b.gif\" width=\"1\" /></td></tr>\\n                 </table><br />\\n                 <!-- /2 -->\\n         \\n         </td>\\n         </tr>\\n         <tr valign=\"top\">\\n         <td width=\"280\">\\n         \\n                 <!-- 3 -->\\n                 <img src=\"http://shopper.cnet.com/i/sh/zd/02/title_3.gif\" alt=\"kds rad-5\" width=\"280\" height=\"35\" border=\"0\" /><br />\\n                 <div align=\"center\">\\n \\t\\t\\t\\t<a href=\"http://chkpt.zdnet.com/chkpt/tedstest02/http://www.zdnet.com/supercenter/stories/overview/0,12069,519801,00.html\"><img src=\"http://shopper.cnet.com/i/sh/zd/02/img_kds.jpg\" alt=\"kds rad-5\" width=\"280\" height=\"180\" border=\"0\" /></a></div>\\n                 <font face=\"ms sans serif\" size=\"-2\">\\n                 <div align=\"center\" style=\"padding-top:8px; padding-bottom:8px\"><img src=\"http://www.cnet.com/b.gif\" width=\"8\" height=\"5\" border=\"0\" alt=\"\" /></div>\\n                 <b>the lowdown:</b> without our even hitting the power button, the stylish kds radius rad-5 stands out from the pack with its silver casing and blue highlights. turn on this basic, analog-only lcd and you\\'ll see an equally impressive image at its native resolution of 1,024x768. \\n \\t\\t\\t\\t<a href=\"http://chkpt.zdnet.com/chkpt/tedstest02/http://www.zdnet.com/supercenter/stories/overview/0,12069,519801,00.html\" style=\"text-decoration:none\">read review</a><br /><br />\\n                 </font>\\n               <table cellpadding=\"0\" cellspacing=\"0\" width=\"280\" border=\"0\" bgcolor=\"#eeeeee\">\\n                 <tr><td colspan=\"5\" height=\"15\" bgcolor=\"#999999\"><font face=\"ms sans serif\" size=\"-2\" color=\"#ffffff\">&nbsp;<b>check latest prices</b></font></td></tr>\\n                 <tr><td colspan=\"5\"><img alt=\"\" height=\"3\" src=\"http://www.zdnet.com/b.gif\" width=\"1\" /></td></tr>\\n                 <tr>\\n                 <td width=\"5\" rowspan=\"5\"><img alt=\"\" height=\"1\" src=\"http://www.zdnet.com/b.gif\" width=\"5\" /></td>\\n                 <td width=\"8\"><img src=\"http://www.zdnet.com/products/i/arrow_yl.gif\" width=\"8\" height=\"10\" border=\"0\" alt=\"\" /></td>\\n                 <td width=\"200\"><font face=\"ms sans serif\" size=\"-2\"><b>\\n \\t\\t\\t\\t<a href=\"http://zdnetshopper.cnet.com/go/to?tag=ex.cr.dp_0.235003_2.5609413-14&desturl=http%3a%2f%2fwww%2ecdw%2ecom%2fr%2easp%3fn%3d10281%26cdwedc%3d308540\" style=\"text-decoration:none\">cdw</a></b></font></td>\\n                 <td width=\"62\" align=\"right\"><font face=\"ms sans serif\" size=\"-2\"><b>\\n \\t\\t\\t\\t<a href=\"http://zdnetshopper.cnet.com/go/to?tag=ex.cr.dp_0.235003_2.5609413-14&desturl=http%3a%2f%2fwww%2ecdw%2ecom%2fr%2easp%3fn%3d10281%26cdwedc%3d308540\" style=\"text-decoration:none\">$383</a></b></font></td>\\n                 <td width=\"5\" rowspan=\"5\"><img alt=\"\" height=\"1\" src=\"http://www.zdnet.com/b.gif\" width=\"5\" /></td>\\n                 </tr>\\n                 <tr><td colspan=\"3\"><img alt=\"\" height=\"3\" src=\"http://www.zdnet.com/b.gif\" width=\"1\" /></td></tr>\\n                 <tr>\\n                 <td width=\"8\"><img src=\"http://www.zdnet.com/products/i/arrow_yl.gif\" width=\"8\" height=\"10\" border=\"0\" alt=\"\" /></td>\\n                 <td width=\"200\"><font face=\"ms sans serif\" size=\"-2\"><b>\\n \\t\\t\\t\\t<a href=\"http://zdnetshopper.cnet.com/go/to?tag=ex.cr.dp_0.235276_3.5609413-15&desturl=http%3a%2f%2fwww%2eus%2ebuy%2ecom%2fclickfrom%2fcnetshopper%2easp%3fsurl%3dhttp%3a%2f%2fwww%2eus%2ebuy%2ecom%2fretail%2fproduct%2easp%3fsku%3d10276019\" style=\"text-decoration:none\">buy.com</a></b></font></td>\\n                 <td width=\"62\" align=\"right\"><font face=\"ms sans serif\" size=\"-2\"><b>\\n \\t\\t\\t\\t<a href=\"http://zdnetshopper.cnet.com/go/to?tag=ex.cr.dp_0.235276_3.5609413-15&desturl=http%3a%2f%2fwww%2eus%2ebuy%2ecom%2fclickfrom%2fcnetshopper%2easp%3fsurl%3dhttp%3a%2f%2fwww%2eus%2ebuy%2ecom%2fretail%2fproduct%2easp%3fsku%3d10276019\" style=\"text-decoration:none\">$353</a></b></font></td>\\n                 </tr>\\n                 <tr><td colspan=\"3\"><img alt=\"\" height=\"3\" src=\"http://www.zdnet.com/b.gif\" width=\"1\" /></td></tr>\\n                 <tr>\\n                 <td width=\"8\"><img src=\"http://www.zdnet.com/products/i/arrow_yl.gif\" width=\"8\" height=\"10\" border=\"0\" alt=\"\" /></td>\\n                 <td width=\"200\"><font face=\"ms sans serif\" size=\"-2\"><b>\\n \\t\\t\\t\\t<a href=\"http://zdnetshopper.cnet.com/go/to?tag=ex.cr.dp_0.853818_2.5609413-20&desturl=http%3a%2f%2fad%2edoubleclick%2enet%2fclk%3b3381043%3b6453019%3bb%3fhttp%3a%2f%2fwww%2egtwaccessories%2ecom%2flink%2ehtml%3fpid%3d1827026\" style=\"text-decoration:none\">gateway</a></b></font></td>\\n                 <td width=\"62\" align=\"right\"><font face=\"ms sans serif\" size=\"-2\"><b>\\n \\t\\t\\t\\t<a href=\"http://zdnetshopper.cnet.com/go/to?tag=ex.cr.dp_0.853818_2.5609413-20&desturl=http%3a%2f%2fad%2edoubleclick%2enet%2fclk%3b3381043%3b6453019%3bb%3fhttp%3a%2f%2fwww%2egtwaccessories%2ecom%2flink%2ehtml%3fpid%3d1827026\" style=\"text-decoration:none\">$375</a></b></font></td>\\n                 </tr>\\n                 <tr><td colspan=\"5\"><img alt=\"\" height=\"3\" src=\"http://www.zdnet.com/b.gif\" width=\"1\" /></td></tr>\\n                 <tr><td colspan=\"5\" bgcolor=\"#cccccc\"><img alt=\"\" height=\"1\" src=\"http://www.zdnet.com/b.gif\" width=\"1\" /></td></tr>\\n                 <tr><td colspan=\"5\" bgcolor=\"#ffffff\"><img alt=\"\" height=\"1\" src=\"http://www.zdnet.com/b.gif\" width=\"1\" /></td></tr>\\n                 <tr><td colspan=\"5\"><img alt=\"\" height=\"3\" src=\"http://www.zdnet.com/b.gif\" width=\"1\" /></td></tr>\\n                 <tr>\\n                 <td width=\"5\"><img alt=\"\" height=\"1\" src=\"http://www.zdnet.com/b.gif\" width=\"5\" /></td>\\n                 <td colspan=\"3\">\\n                         <table border=\"0\" cellpadding=\"0\" cellspacing=\"0\">\\n                         <tr><td><img alt=\"\" src=\"http://www.zdnet.com/products/i/dollar.gif\" width=\"13\" height=\"13\" align=\"absmiddle\" /></td><td>&nbsp;<font face=\"ms sans serif\" size=\"-2\"><b>\\n \\t\\t\\t\\t\\t\\t<a href=\"http://zdnetshopper.cnet.com/shopping/resellers/0-11600-1411-5609413.html?tag=st.cr.mp.dp.pr5609413\" style=\"text-decoration:none\">check prices</a></b></font></td></tr>\\n                         </table>\\n                 </td>\\n                 <td width=\"5\"><img alt=\"\" height=\"1\" src=\"http://www.zdnet.com/b.gif\" width=\"5\" /></td>\\n                 </tr>\\n                 <tr><td colspan=\"5\"><img alt=\"\" height=\"3\" src=\"http://www.zdnet.com/b.gif\" width=\"1\" /></td></tr>\\n                 <tr><td colspan=\"5\" bgcolor=\"#cccccc\"><img alt=\"\" height=\"1\" src=\"http://www.zdnet.com/b.gif\" width=\"1\" /></td></tr>\\n                 </table><br />\\n                 <table cellpadding=\"0\" cellspacing=\"0\" width=\"280\" border=\"0\" bgcolor=\"#eeeeee\">\\n                 <tr><td height=\"15\" bgcolor=\"#999999\"><font face=\"ms sans serif\" size=\"-2\" color=\"#ffffff\">&nbsp;<b>price-feature ratio analysis</b></font></td></tr>\\n                 </table>\\n                 <img src=\"http://shopper.cnet.com/i/sh/zd/02/graph_kds.gif\" alt=\"price-feature ratio analysis\" width=\"280\" height=\"103\" border=\"0\" /><br />\\n                 <img alt=\"\" src=\"i/dots280.gif\" width=\"280\" height=\"1\" vspace=\"10\" /><br />\\n                 <font face=\"ms sans serif\" size=\"-2\">\\n                 <b>stage 2: variable price-feature ratio</b><br />expect high variability in prices among products with similar features. it pays to comparison shop for the best price.<br /><br /><br /><br />\\n                 </font>\\n                 <table cellpadding=\"0\" cellspacing=\"0\" width=\"280\" border=\"0\">\\n                 <tr><td>\\n \\t\\t\\t\\t<a href=\"http://chkpt.zdnet.com/chkpt/tedstest02/http://www.zdnet.com/supercenter/stories/overview/0,12069,519801,00.html\"><img src=\"http://www.zdnet.com/products/photogallery/button_review.gif\" alt=\"read review\" width=\"135\" height=\"19\" border=\"0\" /></a></td><td>\\n \\t\\t\\t\\t<a href=\"http://zdnetshopper.cnet.com/shopping/resellers/0-11600-1411-5609413.html?tag=st.cr.mp.dp.pr5609413\"><img src=\"http://www.zdnet.com/products/photogallery/button_prices.gif\" alt=\"check prices\" width=\"135\" height=\"19\" border=\"0\" /></a></td></tr>\\n                 </table><br /><br />\\n                 <!-- /3 -->\\n                 \\n         </td>\\n         <td width=\"10\"><img alt=\"\" height=\"1\" src=\"http://www.zdnet.com/b.gif\" width=\"10\" /></td>\\n         <td width=\"1\" bgcolor=\"#cccccc\"><img alt=\"\" height=\"1\" src=\"http://www.zdnet.com/b.gif\" width=\"1\" /></td>\\n         <td width=\"9\"><img alt=\"\" height=\"1\" src=\"http://www.zdnet.com/b.gif\" width=\"9\" /></td>\\n         <td width=\"280\">\\n         \\n                 <!-- 4 -->\\n                 <img src=\"http://shopper.cnet.com/i/sh/zd/02/title_4.gif\" alt=\"sony playstation 2\" width=\"280\" height=\"35\" border=\"0\" /><br />\\n                 <div align=\"center\">\\n \\t\\t\\t\\t<a href=\"http://chkpt.zdnet.com/chkpt/tedstest02/http://www.zdnet.com/supercenter/stories/overview/0,12069,133000,00.html\"><img src=\"http://shopper.cnet.com/i/sh/zd/02/img_ps2.jpg\" alt=\"sony playstation 2\" width=\"280\" height=\"180\" border=\"0\" /></a></div>\\n                 <font face=\"ms sans serif\" size=\"-2\">\\n                 <div align=\"center\" style=\"padding-top:8px; padding-bottom:8px\"><img src=\"http://www.cnet.com/b.gif\" width=\"8\" height=\"5\" border=\"0\" alt=\"\" /></div>\\n                 <b>the lowdown:</b> the elder statesman of next-generation consoles, the ps2, now priced below $200, has the luxury of a year\\'s head start and many solid games.\\n \\t\\t\\t\\t<a href=\"http://chkpt.zdnet.com/chkpt/tedstest02/http://www.zdnet.com/supercenter/stories/overview/0,12069,133000,00.html\" style=\"text-decoration:none\">read review</a><br /><br /><br /><br />\\n                 </font>\\n                 <table cellpadding=\"0\" cellspacing=\"0\" width=\"280\" border=\"0\" bgcolor=\"#eeeeee\">\\n                 <tr><td colspan=\"5\" height=\"15\" bgcolor=\"#999999\"><font face=\"ms sans serif\" size=\"-2\" color=\"#ffffff\">&nbsp;<b>check latest prices</b></font></td></tr>\\n                 <tr><td colspan=\"5\"><img alt=\"\" height=\"3\" src=\"http://www.zdnet.com/b.gif\" width=\"1\" /></td></tr>\\n                 <tr>\\n                 <td width=\"5\" rowspan=\"5\"><img alt=\"\" height=\"1\" src=\"http://www.zdnet.com/b.gif\" width=\"5\" /></td>\\n                 <td width=\"8\"><img src=\"http://www.zdnet.com/products/i/arrow_yl.gif\" width=\"8\" height=\"10\" border=\"0\" alt=\"\" /></td>\\n                 <td width=\"200\"><font face=\"ms sans serif\" size=\"-2\"><b>\\n \\t\\t\\t\\t<a href=\"http://zdnetshopper.cnet.com/go/to?tag=ex.cr.dp_0.7458626_0.7932420-2&desturl=http%3a%2f%2fwww%2ejandr%2ecom%2fjrproductpage%2eprocess%3frestartflow%3dt%26merchant%5fid%3d1%26product%5fcode%3dps2%2bplaystati%252f2%26source%3dzdnet%2edatafeed%2etext%2e20020612\" style=\"text-decoration:none\">j&amp;r music and computer</a></b></font></td>\\n                 <td width=\"62\" align=\"right\"><font face=\"ms sans serif\" size=\"-2\"><b>\\n \\t\\t\\t\\t<a href=\"http://zdnetshopper.cnet.com/go/to?tag=ex.cr.dp_0.7458626_0.7932420-2&desturl=http%3a%2f%2fwww%2ejandr%2ecom%2fjrproductpage%2eprocess%3frestartflow%3dt%26merchant%5fid%3d1%26product%5fcode%3dps2%2bplaystati%252f2%26source%3dzdnet%2edatafeed%2etext%2e20020612\" style=\"text-decoration:none\">$199</a></b></font></td>\\n                 <td width=\"5\" rowspan=\"5\"><img alt=\"\" height=\"1\" src=\"http://www.zdnet.com/b.gif\" width=\"5\" /></td>\\n                 </tr>\\n                 <tr><td colspan=\"3\"><img alt=\"\" height=\"3\" src=\"http://www.zdnet.com/b.gif\" width=\"1\" /></td></tr>\\n                 <tr>\\n                 <td width=\"8\"><img src=\"http://www.zdnet.com/products/i/arrow_yl.gif\" width=\"8\" height=\"10\" border=\"0\" alt=\"\" /></td>\\n                 <td width=\"200\"><font face=\"ms sans serif\" size=\"-2\"><b>\\n \\t\\t\\t\\t<a href=\"http://zdnetshopper.cnet.com/go/to?tag=ex.cr.dp_0.235336_1.7932420-2&desturl=http%3a%2f%2fclickserve%2ecc%2ddt%2ecom%2flink%2fddiprod%3flid%3d345209%26pid%3d269748\" style=\"text-decoration:none\">pc connection</a></b></font></td>\\n                 <td width=\"62\" align=\"right\"><font face=\"ms sans serif\" size=\"-2\"><b>\\n \\t\\t\\t\\t<a href=\"http://zdnetshopper.cnet.com/go/to?tag=ex.cr.dp_0.235336_1.7932420-2&desturl=http%3a%2f%2fclickserve%2ecc%2ddt%2ecom%2flink%2fddiprod%3flid%3d345209%26pid%3d269748\" style=\"text-decoration:none\">$199</a></b></font></td>\\n                 </tr>\\n                 <tr><td colspan=\"3\"><img alt=\"\" height=\"3\" src=\"http://www.zdnet.com/b.gif\" width=\"1\" /></td></tr>\\n                 <tr>\\n                 <td width=\"8\"><img src=\"http://www.zdnet.com/b.gif\" width=\"8\" height=\"13\" border=\"0\" alt=\"\" /></td>\\n                 <td width=\"200\"><font face=\"ms sans serif\" size=\"-2\"><b>\\n \\t\\t\\t\\t</td>\\n                 <td width=\"62\" align=\"right\"><font face=\"ms sans serif\" size=\"-2\"><b>\\t\\n \\t\\t\\t\\t</td>\\n                 </tr>\\n                 <tr><td colspan=\"5\"><img alt=\"\" height=\"3\" src=\"http://www.zdnet.com/b.gif\" width=\"1\" /></td></tr>\\n                 <tr><td colspan=\"5\" bgcolor=\"#cccccc\"><img alt=\"\" height=\"1\" src=\"http://www.zdnet.com/b.gif\" width=\"1\" /></td></tr>\\n                 <tr><td colspan=\"5\" bgcolor=\"#ffffff\"><img alt=\"\" height=\"1\" src=\"http://www.zdnet.com/b.gif\" width=\"1\" /></td></tr>\\n                 <tr><td colspan=\"5\"><img alt=\"\" height=\"3\" src=\"http://www.zdnet.com/b.gif\" width=\"1\" /></td></tr>\\n                 <tr>\\n                 <td width=\"5\"><img alt=\"\" height=\"1\" src=\"http://www.zdnet.com/b.gif\" width=\"5\" /></td>\\n                 <td colspan=\"3\">\\n                         <table border=\"0\" cellpadding=\"0\" cellspacing=\"0\">\\n                         <tr><td><img alt=\"\" src=\"http://www.zdnet.com/products/i/dollar.gif\" width=\"13\" height=\"13\" align=\"absmiddle\" /></td><td>&nbsp;<font face=\"ms sans serif\" size=\"-2\"><b>\\n \\t\\t\\t\\t\\t\\t<a href=\"http://zdnetshopper.cnet.com/shopping/resellers/0-11600-1411-7932420.html?tag=st.cr.mp.dp.pr7932420\" style=\"text-decoration:none\">check prices</a></b></font></td></tr>\\n                         </table>\\n                 </td>\\n                 <td width=\"5\"><img alt=\"\" height=\"1\" src=\"http://www.zdnet.com/b.gif\" width=\"5\" /></td>\\n                 </tr>\\n                 <tr><td colspan=\"5\"><img alt=\"\" height=\"3\" src=\"http://www.zdnet.com/b.gif\" width=\"1\" /></td></tr>\\n                 <tr><td colspan=\"5\" bgcolor=\"#cccccc\"><img alt=\"\" height=\"1\" src=\"http://www.zdnet.com/b.gif\" width=\"1\" /></td></tr>\\n                 </table><br />\\n                 <table cellpadding=\"0\" cellspacing=\"0\" width=\"280\" border=\"0\" bgcolor=\"#eeeeee\">\\n                 <tr><td height=\"15\" bgcolor=\"#999999\"><font face=\"ms sans serif\" size=\"-2\" color=\"#ffffff\">&nbsp;<b>price-feature ratio analysis</b></font></td></tr>\\n                 </table>\\n                 <img src=\"http://shopper.cnet.com/i/sh/zd/02/graph_ps2.gif\" alt=\"price-feature ratio analysis\" width=\"280\" height=\"103\" border=\"0\" /><br />\\n                 <img alt=\"\" src=\"i/dots280.gif\" width=\"280\" height=\"1\" vspace=\"10\" /><br />\\n                 <font face=\"ms sans serif\" size=\"-2\">\\n                 <b>stage 3: low price-feature ratio</b><br />when compared to products with similar features, prices are low and don\\'t vary much from merchant to merchant. use our merchant ratings to find the right one for you.<br /><br /><br />\\n                 </font>\\n                 <table cellpadding=\"0\" cellspacing=\"0\" width=\"280\" border=\"0\">\\n                 <tr><td>\\n \\t\\t\\t\\t<a href=\"http://chkpt.zdnet.com/chkpt/tedstest02/http://www.zdnet.com/supercenter/stories/overview/0,12069,133000,00.html\"><img src=\"http://www.zdnet.com/products/photogallery/button_review.gif\" alt=\"read review\" width=\"135\" height=\"19\" border=\"0\" /></a></td><td>\\n \\t\\t\\t\\t<a href=\"http://zdnetshopper.cnet.com/shopping/resellers/0-11600-1411-7932420.html?tag=st.cr.mp.dp.pr7932420\"><img src=\"http://www.zdnet.com/products/photogallery/button_prices.gif\" alt=\"check prices\" width=\"135\" height=\"19\" border=\"0\" /></a></td></tr>\\n                 </table><br /><br />\\n                 <!-- /4 -->\\n         \\n         </td>\\n         </tr>\\n         </table>\\n </td>\\n <td width=\"10\"><img alt=\"\" height=\"1\" src=\"http://www.zdnet.com/b.gif\" width=\"10\" /></td>\\n <td bgcolor=\"#000000\" width=\"1\"><img alt=\"\" height=\"1\" src=\"http://www.zdnet.com/b.gif\" width=\"1\" /></td>\\n <td bgcolor=\"#1e5c99\" width=\"10\"><img alt=\"\" height=\"1\" src=\"http://www.zdnet.com/b.gif\" width=\"10\" /></td>\\n <td bgcolor=\"#83a3cb\" width=\"1\"><img alt=\"\" height=\"1\" src=\"http://www.zdnet.com/b.gif\" width=\"1\" /></td>\\n </tr></tbody></table>\\n <!-- main -->\\n \\n \\n <!-- ### footer ### -->\\n <table cellpadding=0 cellspacing=0 border=0 width=624>\\n <tr valign=top>\\n <td width=1 bgcolor=\"#83a3cb\"><img src=\"http://www.zdnet.com/b.gif\" width=1 height=1></td>\\n <td width=10 bgcolor=\"#1e5c99\"><img src=\"http://www.zdnet.com/b.gif\" width=10 height=1><br></td>\\n <td width=1 bgcolor=\"#000000\"><img src=\"http://www.zdnet.com/b.gif\" width=1 height=1></td>\\n <td width=588 bgcolor=\"#cccccc\"><img src=\"http://www.zdnet.com/b.gif\" width=1 height=1></td>\\n <td width=1 bgcolor=\"#000000\"><img src=\"http://www.zdnet.com/b.gif\" width=1 height=1></td>\\n <td width=10 bgcolor=\"#1e5c99\"><img src=\"http://www.zdnet.com/b.gif\" width=10 height=1><br></td>\\n <td width=1 bgcolor=\"#83a3cb\"><img src=\"http://www.zdnet.com/b.gif\" width=1 height=1></td>\\n </tr>\\n </table>\\n \\n <!-- ### subscription management ### -->\\n <table width=\"624\" bgcolor=\"#ffffef\" cellpadding=\"0\" cellspacing=\"0\" border=\"0\">\\n <tr><td width=\"1\" bgcolor=\"#83a3cb\"><img src=\"http://www.zdnet.com/b.gif\" width=\"1\" height=\"1\"></td>\\n <td width=\"10\" bgcolor=\"#1e5c99\"><img src=\"http://www.zdnet.com/b.gif\" width=\"10\" height=\"1\"></td>\\n <td width=\"1\" bgcolor=\"#000000\"><img src=\"http://www.zdnet.com/b.gif\" width=\"1\" height=\"1\"></td>\\n <td width=\"12\"><img src=\"http://www.zdnet.com/b.gif\" width=\"12\" height=\"1\"></td>\\n <td width=\"564\"><font face=\"arial, helvetica\" size=\"-1\"><img src=\"http://www.zdnet.com/b.gif\" width=\"1\" height=\"5\"><br>\\n <font size=\"3\"><b>sign up for more <a href=\\'http://nl.com.com/servlet/url_login?email=qqqqqqqqqq-zdnet@example.com&brand=zdnet\\'>free newsletters</a> from zdnet</b></font><br>\\n <img src=\"http://www.zdnet.com/b.gif\" width=\"1\" height=\"5\"><br>\\n <!-- subscription management -->\\n \\n <font face=\"ms sans serif, geneva\" size=\"-2\">\\n the e-mail address for your subscription is&nbsp;qqqqqqqqqq-zdnet@example.com</font></font>\\n       <p><font face=\"arial, helvetica\" size=\"-1\"><font face=\"ms sans serif, geneva\" size=\"-2\"> \\n         <a notrack href=\\'http://clickthru.online.com/click?q=f7-n00nr8gumsxlr_i2jcna6st0eqkwtdrr\\'>unsubscribe</a>&nbsp;| \\n         &nbsp;<a href=\\'http://nl.com.com/servlet/url_login?email=qqqqqqqqqq-zdnet@example.com&brand=zdnet\\'>manage \\n         my subscriptions</a>&nbsp;|&nbsp;<a href=\"http://www.zdnet.com/filters/email/faq/\">faq</a>&nbsp;| \\n         &nbsp;<a href=\"http://www.cnet.com/aboutcnet/0-13618.html?tag=ft\">advertise</a><br>\\n         </font>\\n \\n \\n <!-- /subscription management-->\\n </font><img src=\"http://www.zdnet.com/b.gif\" width=\"1\" height=\"8\"></td>\\n <td width=\"12\"><img src=\"http://www.zdnet.com/b.gif\" width=\"12\" height=\"1\"></td>\\n <td width=\"1\" bgcolor=\"#000000\"><img src=\"http://www.zdnet.com/b.gif\" width=\"1\" height=\"1\"></td>\\n <td width=\"10\" bgcolor=\"#1e5c99\"><img src=\"http://www.zdnet.com/b.gif\" width=\"10\" height=\"1\"></td>\\n <td width=\"1\" bgcolor=\"#83a3cb\"><img src=\"http://www.zdnet.com/b.gif\" width=\"1\" height=\"1\"></td></tr>\\n </table>\\n <!-- /### subscription management ### -->\\n \\n <table width=624 cellpadding=0 cellspacing=0 border=0><tr>\\n <td width=1 bgcolor=\"#83a3cb\"><img src=\"http://www.zdnet.com/b.gif\" width=1 height=1></td>\\n <td width=10 bgcolor=\"#1e5c99\"><img src=\"http://www.zdnet.com/b.gif\" width=10 height=1></td>\\n <td width=1 bgcolor=\"#000000\"><img src=\"http://www.zdnet.com/b.gif\" width=1 height=1></td>\\n <td width=588 bgcolor=\"#000000\"><img src=\"http://www.zdnet.com/b.gif\" width=1 height=1></td>\\n <td width=1 bgcolor=\"#000000\"><img src=\"http://www.zdnet.com/b.gif\" width=1 height=1></td>\\n <td width=10 bgcolor=\"#1e5c99\"><img src=\"http://www.zdnet.com/b.gif\" width=10 height=1></td>\\n <td width=1 bgcolor=\"#83a3cb\"><img src=\"http://www.zdnet.com/b.gif\" width=1 height=1></td>\\n </tr></table>\\n <table width=624 cellpadding=0 cellspacing=0 border=0><tr bgcolor=\"#1e5c99\">\\n <td width=1 bgcolor=\"#83a3cb\"><img src=\"http://www.zdnet.com/b.gif\" width=1 height=1></td>\\n <td width=10><img src=\"http://www.zdnet.com/b.gif\" width=10 height=1></td>\\n <td width=75><a href=\"http://www.zdnet.com/\"><img src=\"http://www.zdnet.com/graphics/newsletters/gl_ft.gif\" width=75 height=43 border=0 alt=\"zdnet\"></a></td>\\n <td width=525><font face=\"arial, helvetica\" size=\"-2\" color=\"#ffffff\"><a href=\"http://www.zdnet.com/techupdate/filters/main/\" style=\"color: #fff\">home</a> |<a href=\"http://www.zdnet.com/techupdate/filters/mrc/0,14175,6020441,00.html\" style=\"color: #fff\">ebusiness</a> | <a href=\"http://www.zdnet.com/techupdate/filters/mrc/0,14175,6020424,00.html\" style=\"color: #fff\">security</a> | <a href=\"http://www.zdnet.com/techupdate/filters/mrc/0,14175,6020442,00.html\" style=\"color: #fff\">networking</a> | <a href=\"http://www.zdnet.com/techupdate/filters/mrc/0,14175,6020443,00.html\" style=\"color: #fff\">applications</a> | <a href=\"http://www.zdnet.com/techupdate/filters/mrc/0,14175,6020445,00.html\" style=\"color: #fff\">platforms</a> | <a href=\"http://www.zdnet.com/techupdate/filters/mrc/0,14175,6020444,00.html\" style=\"color: #fff\">hardware</a> | <a href=\"http://www.zdnet.com/techupdate/filters/mrc/0,14175,6020568,00.html\" style=\"color: #fff\">careers</a></font></td>\\n <td width=1 bgcolor=\"#83a3cb\"><img src=\"http://www.zdnet.com/b.gif\" width=1 height=1></td>\\n </tr></table>\\n <table width=624 cellpadding=0 cellspacing=0 border=0>\\n <tr><td bgcolor=\"#83a3cb\"><img src=\"http://www.zdnet.com/b.gif\" width=1 height=1></td></tr>\\n <tr><td><font face=\"arial, helvetica\" size=\"-2\" color=\"#ffffff\"><tr:ad name=\"copyright\" /></font></td></tr>\\n </table>\\n <!-- /footer -->\\n \\n \\n </body>\\n </html>\\n \\n <img height=1 width=1 src=\"http://clickthru.online.com/click?q=0d-3a5undrtqg-sqjv756xjrj8xisrr\">\\n --2063203.1026378321083.javamail.root.abv-sfo1-ac-agent1--\\n \\n \\n')"
      ]
     },
     "execution_count": 15,
     "metadata": {},
     "output_type": "execute_result"
    }
   ],
   "source": [
    "i = 713\n",
    "kaggle_y_test_2[i], kaggle_y_test_3[i], test['email'][i]"
   ]
  },
  {
   "cell_type": "markdown",
   "metadata": {},
   "source": [
    "### Feature/Model Selection Process\n",
    "\n",
    "In this following cell, describe the process of improving your model. You should use at least 2-3 sentences each to address the follow questions:\n",
    "\n",
    "1. How did you find better features for your model?\n",
    "2. What did you try that worked / didn't work?\n",
    "3. What was surprising in your search for good features?"
   ]
  },
  {
   "cell_type": "markdown",
   "metadata": {
    "tags": [
     "student",
     "written",
     "q_feature"
    ]
   },
   "source": [
    "1. We know from previous experience that bag of words works. Stop words make sense because they could add noise to our classifier. So combining the two especially when sklearn makes it so easy, was intuitive.\n",
    "1. We tried manual values for the regularization strength, didn't work. We tried manual values for the max number of features, didn't work. We also tried checking for html tags and the percentage of the email that was either a capital letter or a number however these functions only increased accuracy to about 98% instead of the whole amount required so we decided to remove them when the bag of words model worked for us. \n",
    "1. Using all the features gives the best performance, at least on the public test set. We thought it would be an overfit since we have only 8k samples and >100k features, but it seems to work fine even on the test set. "
   ]
  },
  {
   "cell_type": "markdown",
   "metadata": {},
   "source": [
    "### EDA\n",
    "\n",
    "In the four light blue cells below, show us four different visualizations that you used to select features for your model. Each cell should output:\n",
    "\n",
    "1. A plot showing something meaningful about the data that helped you during feature / model selection.\n",
    "2. 2-3 sentences describing what you plotted and what its implications are for your features.\n",
    "\n",
    "Feel to create as many plots as you want in your process of feature selection, but select four interesting ones for the cells below.\n",
    "\n",
    "You should not show us more than one visualization for the same type of feature. For example, don't show us a bar chart of the number of emails that contain the word \"hello\" and a bar chart of the number of emails that contain the word \"world\". Each visualization should be conceptually distinct."
   ]
  },
  {
   "cell_type": "code",
   "execution_count": 43,
   "metadata": {
    "tags": [
     "student",
     "written",
     "q_eda1"
    ]
   },
   "outputs": [
    {
     "data": {
      "text/plain": [
       "<matplotlib.axes._subplots.AxesSubplot at 0x1df97a9f2e8>"
      ]
     },
     "execution_count": 43,
     "metadata": {},
     "output_type": "execute_result"
    },
    {
     "data": {
      "image/png": "[encoded data removed]",
      "text/plain": [
       "<matplotlib.figure.Figure at 0x1df9c277cc0>"
      ]
     },
     "metadata": {},
     "output_type": "display_data"
    }
   ],
   "source": [
    "# This is the first graded EDA cell\n",
    "train_copy_1 = train.copy()\n",
    "train_copy_1.head()\n",
    "train_copy_1['col'] = train_copy_1['email'].apply(lambda text: int('viagra' in text))\n",
    "train_copy_1 = train_copy_1[train_copy_1['col'] == 1]\n",
    "train_copy_1['spam'].plot.hist()"
   ]
  },
  {
   "cell_type": "code",
   "execution_count": 44,
   "metadata": {
    "tags": [
     "student",
     "written",
     "q_eda2"
    ]
   },
   "outputs": [
    {
     "data": {
      "text/plain": [
       "<matplotlib.axes._subplots.AxesSubplot at 0x1df9c26e898>"
      ]
     },
     "execution_count": 44,
     "metadata": {},
     "output_type": "execute_result"
    },
    {
     "data": {
      "image/png": "[encoded data removed]",
      "text/plain": [
       "<matplotlib.figure.Figure at 0x1df97e0f588>"
      ]
     },
     "metadata": {},
     "output_type": "display_data"
    }
   ],
   "source": [
    "# This is the second graded EDA cell\n",
    "train_copy_1 = train.copy()\n",
    "train_copy_1.head()\n",
    "train_copy_1['col'] = train_copy_1['email'].apply(lambda text: int(stop_words[2] in text))\n",
    "train_copy_1 = train_copy_1[train_copy_1['col'] == 1]\n",
    "train_copy_1['spam'].plot.hist()"
   ]
  },
  {
   "cell_type": "code",
   "execution_count": 17,
   "metadata": {
    "collapsed": true
   },
   "outputs": [],
   "source": [
    "def check_html(text):\n",
    "    '''\n",
    "    Args:\n",
    "        `text` (str): string to search in\n",
    "    \n",
    "    Returns:\n",
    "        0 if the \"<html>\" is not in text, 1 if it is.\n",
    "    '''\n",
    "    if \"<html>\" in text:\n",
    "        return 1\n",
    "    return 0"
   ]
  },
  {
   "cell_type": "code",
   "execution_count": 19,
   "metadata": {
    "tags": [
     "student",
     "written",
     "q_eda3"
    ]
   },
   "outputs": [
    {
     "data": {
      "text/plain": [
       "<matplotlib.axes._subplots.AxesSubplot at 0x10f4e4d30>"
      ]
     },
     "execution_count": 19,
     "metadata": {},
     "output_type": "execute_result"
    },
    {
     "data": {
      "image/png": "[encoded data removed]",
      "text/plain": [
       "<matplotlib.figure.Figure at 0x110db5080>"
      ]
     },
     "metadata": {},
     "output_type": "display_data"
    }
   ],
   "source": [
    "# This is the third graded EDA cell\n",
    "train_copy_2 = train.copy()\n",
    "train_copy_2.head()\n",
    "train_copy_2['html'] = train_copy_2['email'].apply(lambda text: check_html(text))\n",
    "train_copy_2 = train_copy_2[train_copy_2['html'] == 1]\n",
    "train_copy_2['spam'].plot.hist()"
   ]
  },
  {
   "cell_type": "code",
   "execution_count": 46,
   "metadata": {
    "collapsed": true
   },
   "outputs": [],
   "source": [
    "def pct_cap_nums(text):\n",
    "    '''\n",
    "    Args:\n",
    "        `text` (str): string to search in\n",
    "    \n",
    "    Returns:\n",
    "        0 if the % of capital words or numbers in the text is less than 60% 1 if it is greater than 60%.\n",
    "    '''\n",
    "    #count_caps = sum(1 for char in text if char.isupper())\n",
    "    count_nums = sum(1 for char in text if char.isdigit())\n",
    "    total = sum(1 for char in text)\n",
    "    #count = count_caps + count_nums\n",
    "    pct = count_nums / total\n",
    "    if pct > 0.3:\n",
    "        return 1\n",
    "    return 0"
   ]
  },
  {
   "cell_type": "code",
   "execution_count": 48,
   "metadata": {
    "tags": [
     "student",
     "written",
     "q_eda4"
    ]
   },
   "outputs": [
    {
     "data": {
      "text/plain": [
       "<matplotlib.axes._subplots.AxesSubplot at 0x117a67eb8>"
      ]
     },
     "execution_count": 48,
     "metadata": {},
     "output_type": "execute_result"
    },
    {
     "data": {
      "image/png": "[encoded data removed]",
      "text/plain": [
       "<matplotlib.figure.Figure at 0x117ac7da0>"
      ]
     },
     "metadata": {},
     "output_type": "display_data"
    }
   ],
   "source": [
    "# This is the fourth graded EDA cell\n",
    "train_copy_3 = train.copy()\n",
    "train_copy_3.head()\n",
    "train_copy_3['cap_nums'] = train_copy_3['email'].apply(lambda text: pct_cap_nums(text))\n",
    "train_copy_3 = train_copy_3[train_copy_3['cap_nums'] == 1]\n",
    "train_copy_3\n",
    "train_copy_3['spam'].plot.hist()"
   ]
  },
  {
   "cell_type": "markdown",
   "metadata": {},
   "source": [
    "### Making an ROC Curve\n",
    "\n",
    "It turns out that there's a tradeoff between sensitivity and specificity. In most cases we won't be able to get perfect sensitivity and specificity, so we have to select which of two we value more. For example, in the case of cancer screenings we value specificity more because false negatives are comparatively worse than false positives — a false negative means that a patient might not discover a disease until it's too late to treat, while a false positive means that a patient will probably have to take another screening.\n",
    "\n",
    "Recall that logistic regression calculates the probability that an example belongs to a certain class. Then, to classify an example we say that an email is spam if our classifier gives it >=0.5 probability of being spam. However, we can adjust that cutoff: we can say that an email is spam only if our classifier gives it >=0.7 probability of being spam, for example. This is how we can trade off sensitivity and specificity.\n",
    "\n",
    "The ROC (receiver operating charactistic) curve shows this trade off for each possible cutoff probability. We will discuss this during lecture, and you can also read [this blog post for more information.](https://www.theanalysisfactor.com/what-is-an-roc-curve/).\n",
    "\n",
    "In the light blue cell below, plot the ROC curve for your final classifier (the one you use to make predictions for Kaggle)."
   ]
  },
  {
   "cell_type": "code",
   "execution_count": 49,
   "metadata": {
    "tags": [
     "student",
     "written",
     "q_roc"
    ]
   },
   "outputs": [
    {
     "data": {
      "text/plain": [
       "(array([ 0.,  1.]), array([ 0.99859813,  1.        ]), array([1, 0]))"
      ]
     },
     "execution_count": 49,
     "metadata": {},
     "output_type": "execute_result"
    }
   ],
   "source": [
    "from sklearn.metrics import roc_curve\n",
    "roc_curve(train['spam'], kaggle_clf_3.predict(kaggle_vectorizer_3.fit_transform(list(train['email']))))\n",
    "# Note that you'll want to use the .predict_proba(...) method for your classifier\n",
    "# instead of .predict(...) so you get probabilities, not classes"
   ]
  },
  {
   "cell_type": "markdown",
   "metadata": {},
   "source": [
    "### Submitting to Kaggle\n",
    "\n",
    "The following code will write your predictions on the test dataset to a CSV, which you can submit to Kaggle. You may need to modify it to suit your needs.\n",
    "\n",
    "The code below assumes that you've saved your predictions in a 1-dimensional array called `test_predictions`.\n",
    "\n",
    "Remember that if you've performed transformations or featurization on the training data, you must also perform the same transformations on the test data in order to make predictions. For example, if you've created features for the words \"drug\" and \"money\" on the training data, you must also extract the same features in order to use scikit-learn's `.predict(...)` method.\n",
    "\n",
    "You should submit your CSV files to https://www.kaggle.com/t/433a6bca95f94a78a0d2a6e7e8b311c3"
   ]
  },
  {
   "cell_type": "code",
   "execution_count": 48,
   "metadata": {},
   "outputs": [
    {
     "name": "stdout",
     "output_type": "stream",
     "text": [
      "      Id  Class\n",
      "0      0      0\n",
      "1      1      1\n",
      "2      2      1\n",
      "3      3      0\n",
      "4      4      0\n",
      "5      5      0\n",
      "6      6      1\n",
      "7      7      0\n",
      "8      8      0\n",
      "9      9      0\n",
      "10    10      1\n",
      "11    11      0\n",
      "12    12      0\n",
      "13    13      0\n",
      "14    14      0\n",
      "15    15      0\n",
      "16    16      1\n",
      "17    17      0\n",
      "18    18      0\n",
      "19    19      0\n",
      "20    20      0\n",
      "21    21      1\n",
      "22    22      0\n",
      "23    23      0\n",
      "24    24      0\n",
      "25    25      0\n",
      "26    26      0\n",
      "27    27      1\n",
      "28    28      1\n",
      "29    29      0\n",
      "..   ...    ...\n",
      "970  970      0\n",
      "971  971      0\n",
      "972  972      1\n",
      "973  973      0\n",
      "974  974      0\n",
      "975  975      1\n",
      "976  976      0\n",
      "977  977      1\n",
      "978  978      1\n",
      "979  979      0\n",
      "980  980      0\n",
      "981  981      0\n",
      "982  982      0\n",
      "983  983      0\n",
      "984  984      0\n",
      "985  985      0\n",
      "986  986      0\n",
      "987  987      0\n",
      "988  988      0\n",
      "989  989      0\n",
      "990  990      1\n",
      "991  991      0\n",
      "992  992      0\n",
      "993  993      0\n",
      "994  994      0\n",
      "995  995      0\n",
      "996  996      0\n",
      "997  997      0\n",
      "998  998      0\n",
      "999  999      1\n",
      "\n",
      "[1000 rows x 2 columns]\n",
      "Created a CSV file: submission_2017-12-03T15:01:26.csv.\n",
      "You may now upload this CSV file to Kaggle for scoring.\n"
     ]
    }
   ],
   "source": [
    "test_predictions = kaggle_y_test_3\n",
    "\n",
    "from datetime import datetime\n",
    "\n",
    "# Assuming that your predictions on the test set are stored in a 1-dimensional array called\n",
    "# test_predictions. Feel free to modify this cell as long you create a CSV in the right format.\n",
    "assert isinstance(test_predictions, np.ndarray)\n",
    "assert test_predictions.shape == (1000, )\n",
    "\n",
    "submission_df = pd.DataFrame({\n",
    "    \"Id\": test['id'], \n",
    "    \"Class\": test_predictions,\n",
    "}, columns=['Id', 'Class'])\n",
    "\n",
    "print(submission_df)\n",
    "\n",
    "timestamp = datetime.isoformat(datetime.now()).split(\".\")[0]\n",
    "\n",
    "submission_df.to_csv(\"submission_all_feats_c_10.csv\".format(timestamp), index=False)\n",
    "print('Created a CSV file: {}.'.format(\"submission_{}.csv\".format(timestamp)))\n",
    "print('You may now upload this CSV file to Kaggle for scoring.')"
   ]
  },
  {
   "cell_type": "markdown",
   "metadata": {},
   "source": [
    "## Submission\n",
    "\n",
    "Run the cell below to submit your notebook to OkPy:"
   ]
  },
  {
   "cell_type": "code",
   "execution_count": null,
   "metadata": {
    "collapsed": true
   },
   "outputs": [],
   "source": [
    "_ = ok.submit()"
   ]
  },
  {
   "cell_type": "markdown",
   "metadata": {},
   "source": [
    "Now, run this cell to create a PDF to upload to Gradescope."
   ]
  },
  {
   "cell_type": "code",
   "execution_count": null,
   "metadata": {
    "collapsed": true,
    "tags": [
     "student",
     "no-ok"
    ]
   },
   "outputs": [],
   "source": [
    "!pip install -U gs100\n",
    "from gs100 import convert\n",
    "# Change the zoom argument if your font size is too small\n",
    "convert('proj2.ipynb', num_questions=8, zoom=1)"
   ]
  },
  {
   "cell_type": "markdown",
   "metadata": {},
   "source": [
    "Make sure to upload your PDF now. Otherwise, your written questions won't be graded."
   ]
  },
  {
   "cell_type": "code",
   "execution_count": null,
   "metadata": {
    "collapsed": true
   },
   "outputs": [],
   "source": []
  }
 ],
 "metadata": {
  "kernelspec": {
   "display_name": "Python 3",
   "language": "python",
   "name": "python3"
  },
  "language_info": {
   "codemirror_mode": {
    "name": "ipython",
    "version": 3
   },
   "file_extension": ".py",
   "mimetype": "text/x-python",
   "name": "python",
   "nbconvert_exporter": "python",
   "pygments_lexer": "ipython3",
   "version": "3.6.2"
  }
 },
 "nbformat": 4,
 "nbformat_minor": 2
}
